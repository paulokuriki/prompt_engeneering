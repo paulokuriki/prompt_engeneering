{
  "nbformat": 4,
  "nbformat_minor": 0,
  "metadata": {
    "colab": {
      "provenance": [],
      "authorship_tag": "ABX9TyOKaWs4DUY7GScRpvfn2ngx",
      "include_colab_link": true
    },
    "kernelspec": {
      "name": "python3",
      "display_name": "Python 3"
    },
    "language_info": {
      "name": "python"
    }
  },
  "cells": [
    {
      "cell_type": "markdown",
      "metadata": {
        "id": "view-in-github",
        "colab_type": "text"
      },
      "source": [
        "<a href=\"https://colab.research.google.com/github/paulokuriki/prompt_engeneering/blob/main/prompt_engeneering.ipynb\" target=\"_parent\"><img src=\"https://colab.research.google.com/assets/colab-badge.svg\" alt=\"Open In Colab\"/></a>"
      ]
    },
    {
      "cell_type": "markdown",
      "source": [
        "# Radiology Report Classification with Large Language Models\n",
        "\n",
        "## Learning Objectives\n",
        "\n",
        "By the end of this session, you will be able to:\n",
        "- Understand how Large Language Models (LLMs) can assist in radiology report classification.\n",
        "- Apply effective prompting techniques for medical report analysis.\n",
        "- Develop specialized classifiers for different radiological findings.\n",
        "\n",
        "---\n",
        "\n",
        "# Introduction\n",
        "\n",
        "Radiologists often need to classify reports based on specific findings or conditions. **Large Language Models (LLMs)** can streamline this process, improving efficiency and consistency in report classification. This tutorial demonstrates how to leverage LLMs for various classification tasks in radiology."
      ],
      "metadata": {
        "id": "TjB-Gp_irs_p"
      }
    },
    {
      "cell_type": "markdown",
      "source": [],
      "metadata": {
        "id": "rJRr-DUmrqL8"
      }
    },
    {
      "cell_type": "markdown",
      "source": [
        "\n",
        "# Setup and Data Loading\n",
        "\n",
        "To begin, we'll import the required libraries and load the dataset."
      ],
      "metadata": {
        "id": "CUF0mJun0Mlo"
      }
    },
    {
      "cell_type": "code",
      "source": [
        "pip install langchain_openai"
      ],
      "metadata": {
        "colab": {
          "base_uri": "https://localhost:8080/"
        },
        "collapsed": true,
        "id": "FZq6ldkz0bRc",
        "outputId": "6dfe4c3c-ab14-4056-8614-ff30260d0b6a"
      },
      "execution_count": 1,
      "outputs": [
        {
          "output_type": "stream",
          "name": "stdout",
          "text": [
            "Requirement already satisfied: langchain_openai in /usr/local/lib/python3.11/dist-packages (0.3.6)\n",
            "Requirement already satisfied: langchain-core<1.0.0,>=0.3.35 in /usr/local/lib/python3.11/dist-packages (from langchain_openai) (0.3.35)\n",
            "Requirement already satisfied: openai<2.0.0,>=1.58.1 in /usr/local/lib/python3.11/dist-packages (from langchain_openai) (1.61.1)\n",
            "Requirement already satisfied: tiktoken<1,>=0.7 in /usr/local/lib/python3.11/dist-packages (from langchain_openai) (0.9.0)\n",
            "Requirement already satisfied: langsmith<0.4,>=0.1.125 in /usr/local/lib/python3.11/dist-packages (from langchain-core<1.0.0,>=0.3.35->langchain_openai) (0.3.8)\n",
            "Requirement already satisfied: tenacity!=8.4.0,<10.0.0,>=8.1.0 in /usr/local/lib/python3.11/dist-packages (from langchain-core<1.0.0,>=0.3.35->langchain_openai) (9.0.0)\n",
            "Requirement already satisfied: jsonpatch<2.0,>=1.33 in /usr/local/lib/python3.11/dist-packages (from langchain-core<1.0.0,>=0.3.35->langchain_openai) (1.33)\n",
            "Requirement already satisfied: PyYAML>=5.3 in /usr/local/lib/python3.11/dist-packages (from langchain-core<1.0.0,>=0.3.35->langchain_openai) (6.0.2)\n",
            "Requirement already satisfied: packaging<25,>=23.2 in /usr/local/lib/python3.11/dist-packages (from langchain-core<1.0.0,>=0.3.35->langchain_openai) (24.2)\n",
            "Requirement already satisfied: typing-extensions>=4.7 in /usr/local/lib/python3.11/dist-packages (from langchain-core<1.0.0,>=0.3.35->langchain_openai) (4.12.2)\n",
            "Requirement already satisfied: pydantic<3.0.0,>=2.5.2 in /usr/local/lib/python3.11/dist-packages (from langchain-core<1.0.0,>=0.3.35->langchain_openai) (2.10.6)\n",
            "Requirement already satisfied: anyio<5,>=3.5.0 in /usr/local/lib/python3.11/dist-packages (from openai<2.0.0,>=1.58.1->langchain_openai) (3.7.1)\n",
            "Requirement already satisfied: distro<2,>=1.7.0 in /usr/local/lib/python3.11/dist-packages (from openai<2.0.0,>=1.58.1->langchain_openai) (1.9.0)\n",
            "Requirement already satisfied: httpx<1,>=0.23.0 in /usr/local/lib/python3.11/dist-packages (from openai<2.0.0,>=1.58.1->langchain_openai) (0.28.1)\n",
            "Requirement already satisfied: jiter<1,>=0.4.0 in /usr/local/lib/python3.11/dist-packages (from openai<2.0.0,>=1.58.1->langchain_openai) (0.8.2)\n",
            "Requirement already satisfied: sniffio in /usr/local/lib/python3.11/dist-packages (from openai<2.0.0,>=1.58.1->langchain_openai) (1.3.1)\n",
            "Requirement already satisfied: tqdm>4 in /usr/local/lib/python3.11/dist-packages (from openai<2.0.0,>=1.58.1->langchain_openai) (4.67.1)\n",
            "Requirement already satisfied: regex>=2022.1.18 in /usr/local/lib/python3.11/dist-packages (from tiktoken<1,>=0.7->langchain_openai) (2024.11.6)\n",
            "Requirement already satisfied: requests>=2.26.0 in /usr/local/lib/python3.11/dist-packages (from tiktoken<1,>=0.7->langchain_openai) (2.32.3)\n",
            "Requirement already satisfied: idna>=2.8 in /usr/local/lib/python3.11/dist-packages (from anyio<5,>=3.5.0->openai<2.0.0,>=1.58.1->langchain_openai) (3.10)\n",
            "Requirement already satisfied: certifi in /usr/local/lib/python3.11/dist-packages (from httpx<1,>=0.23.0->openai<2.0.0,>=1.58.1->langchain_openai) (2025.1.31)\n",
            "Requirement already satisfied: httpcore==1.* in /usr/local/lib/python3.11/dist-packages (from httpx<1,>=0.23.0->openai<2.0.0,>=1.58.1->langchain_openai) (1.0.7)\n",
            "Requirement already satisfied: h11<0.15,>=0.13 in /usr/local/lib/python3.11/dist-packages (from httpcore==1.*->httpx<1,>=0.23.0->openai<2.0.0,>=1.58.1->langchain_openai) (0.14.0)\n",
            "Requirement already satisfied: jsonpointer>=1.9 in /usr/local/lib/python3.11/dist-packages (from jsonpatch<2.0,>=1.33->langchain-core<1.0.0,>=0.3.35->langchain_openai) (3.0.0)\n",
            "Requirement already satisfied: orjson<4.0.0,>=3.9.14 in /usr/local/lib/python3.11/dist-packages (from langsmith<0.4,>=0.1.125->langchain-core<1.0.0,>=0.3.35->langchain_openai) (3.10.15)\n",
            "Requirement already satisfied: requests-toolbelt<2.0.0,>=1.0.0 in /usr/local/lib/python3.11/dist-packages (from langsmith<0.4,>=0.1.125->langchain-core<1.0.0,>=0.3.35->langchain_openai) (1.0.0)\n",
            "Requirement already satisfied: zstandard<0.24.0,>=0.23.0 in /usr/local/lib/python3.11/dist-packages (from langsmith<0.4,>=0.1.125->langchain-core<1.0.0,>=0.3.35->langchain_openai) (0.23.0)\n",
            "Requirement already satisfied: annotated-types>=0.6.0 in /usr/local/lib/python3.11/dist-packages (from pydantic<3.0.0,>=2.5.2->langchain-core<1.0.0,>=0.3.35->langchain_openai) (0.7.0)\n",
            "Requirement already satisfied: pydantic-core==2.27.2 in /usr/local/lib/python3.11/dist-packages (from pydantic<3.0.0,>=2.5.2->langchain-core<1.0.0,>=0.3.35->langchain_openai) (2.27.2)\n",
            "Requirement already satisfied: charset-normalizer<4,>=2 in /usr/local/lib/python3.11/dist-packages (from requests>=2.26.0->tiktoken<1,>=0.7->langchain_openai) (3.4.1)\n",
            "Requirement already satisfied: urllib3<3,>=1.21.1 in /usr/local/lib/python3.11/dist-packages (from requests>=2.26.0->tiktoken<1,>=0.7->langchain_openai) (2.3.0)\n"
          ]
        }
      ]
    },
    {
      "cell_type": "code",
      "source": [
        "import os\n",
        "import getpass\n",
        "import random\n",
        "import json\n",
        "\n",
        "import pandas as pd\n",
        "import numpy as np\n",
        "from matplotlib import pyplot as plt\n",
        "import seaborn as sns\n",
        "from tqdm import tqdm\n",
        "from langchain_openai import ChatOpenAI\n",
        "from IPython.display import HTML, display"
      ],
      "metadata": {
        "id": "69Nv6EbI0JND"
      },
      "execution_count": 2,
      "outputs": []
    },
    {
      "cell_type": "code",
      "source": [
        "# Load and prepare our dataset\n",
        "def load_reports(url):\n",
        "    \"\"\"Load and clean radiology reports from URL\"\"\"\n",
        "    df = pd.read_csv(url)\n",
        "    df = df.map(lambda x: x.strip() if isinstance(x, str) else x)\n",
        "    df = df.replace('', pd.NA).dropna().reset_index(drop=True)\n",
        "    return df\n",
        "\n",
        "# Load the data\n",
        "url = \"https://raw.githubusercontent.com/paulokuriki/api_for_rads/main/reports.csv\"\n",
        "df = load_reports(url)\n",
        "\n",
        "# Show data distribution\n",
        "print(f'Dataset downloaded successfully. Total sample reports: {len(df)}')\n",
        "print(df.label.value_counts())"
      ],
      "metadata": {
        "colab": {
          "base_uri": "https://localhost:8080/"
        },
        "id": "sA5_fdzk0VPM",
        "outputId": "4466b5a8-875d-46b0-ba1c-354af93da3be"
      },
      "execution_count": 3,
      "outputs": [
        {
          "output_type": "stream",
          "name": "stdout",
          "text": [
            "Dataset downloaded successfully. Total sample reports: 3927\n",
            "label\n",
            "abnormal    2564\n",
            "normal      1363\n",
            "Name: count, dtype: int64\n"
          ]
        }
      ]
    },
    {
      "cell_type": "markdown",
      "source": [
        "# Report Classification Functions\n",
        "\n",
        "To facilitate classification, we will define simple yet effective functions that help analyze radiology reports using LLMs.\n"
      ],
      "metadata": {
        "id": "IUjtTdRd0zUD"
      }
    },
    {
      "cell_type": "code",
      "execution_count": 4,
      "metadata": {
        "id": "OQTbrtDHync1"
      },
      "outputs": [],
      "source": [
        "#def get_random_report(df):\n",
        "#    \"\"\"Get a random report from our dataset\"\"\"\n",
        "#    random.seed(40)  # Set seed for reproducibility\n",
        "#    idx = random.randint(0, len(df) - 1)\n",
        "#    return {\n",
        "#        'report': df.iloc[idx]['report'],\n",
        "#        'label': df.iloc[idx]['label'],\n",
        "#        'index': idx\n",
        "#    }\n",
        "\n",
        "def classify_report(report, template, looking_for=None, examples=None):\n",
        "    \"\"\"\n",
        "    Classify a radiology report using LLM\n",
        "    \"\"\"\n",
        "    llm = ChatOpenAI(\n",
        "        model=\"gpt-4-0125-preview\",\n",
        "        temperature=0,\n",
        "        seed=42,\n",
        "        model_kwargs={\"response_format\": {\"type\": \"json_object\"}}\n",
        "    )\n",
        "\n",
        "    # Format the template with the report and any findings\n",
        "    if looking_for and examples:\n",
        "        prompt = template.format(report=report, looking_for=looking_for, examples=examples)\n",
        "    else:\n",
        "        prompt = template.format(report=report)\n",
        "\n",
        "    try:\n",
        "        response = llm.invoke(prompt)\n",
        "        result = json.loads(response.content.lower())\n",
        "        return result['classification']\n",
        "    except Exception as e:\n",
        "        print(f\"Error during classification: {e}\")\n",
        "        return 'error'\n",
        "\n",
        "def classify_multiple_reports(df, n_reports=5, template=None, looking_for=None, examples=None, seed=67):\n",
        "    \"\"\"Classify multiple random reports\"\"\"\n",
        "    results = []\n",
        "    random.seed(seed)  # Set seed for reproducibility\n",
        "    report_indices = random.sample(range(len(df)), n_reports)\n",
        "\n",
        "    for idx in tqdm(report_indices, desc=\"Classifying reports\"):\n",
        "        report = df.iloc[idx]['report']\n",
        "        label = df.iloc[idx]['label']\n",
        "        prediction = classify_report(report, template, looking_for, examples)\n",
        "\n",
        "        results.append({\n",
        "            'index': idx,\n",
        "            'report': report,\n",
        "            'original_label': label,\n",
        "            'predicted_label': prediction\n",
        "        })\n",
        "\n",
        "    return results\n",
        "\n",
        "def display_results(results, show_original_label=True):\n",
        "    \"\"\"Display classification results in a readable format\"\"\"\n",
        "\n",
        "    for r in results:\n",
        "        print(f\"\\nReport #{r['index']}:\")\n",
        "        print(\"=\" * 50)\n",
        "        print(f\"Report text:\")\n",
        "        display(r['report'])\n",
        "        print(\"-\" * 50)\n",
        "\n",
        "        if show_original_label:\n",
        "            # Compare prediction with the original label\n",
        "            is_correct = r['original_label'].lower() == r['predicted_label'].lower()\n",
        "            classification = 'Correct' if is_correct else 'Wrong'\n",
        "            classification_icon = '✅' if is_correct else '👎'\n",
        "            print(f\"Original Label : {r['original_label']}\")\n",
        "            print(f\"Predicted Label: {r['predicted_label']}\")\n",
        "            print(f\"Classification : {classification} {classification_icon}\")\n",
        "\n",
        "        else:\n",
        "            # Only show predicted classification when original label is hidden\n",
        "            is_correct = r['predicted_label'].lower() == \"present\"\n",
        "            classification_icon = '✓✓✓' if is_correct else 'xxx'\n",
        "            classification_icon = '✅' if is_correct else '👎'\n",
        "            print(f\"Finding: {r['predicted_label']} {classification_icon}\")\n",
        "\n",
        "        print()\n",
        "\n",
        "\n",
        "    total = len(results)\n",
        "    print(\"SUMMARY:\")\n",
        "    print(\"=\" * 50)\n",
        "    print(f\"\\nAnalyzed {total} reports\")\n",
        "\n",
        "    # Show accuracy if original labels are available\n",
        "    if show_original_label:\n",
        "        correct = sum(1 for r in results if r['original_label'].lower() == r['predicted_label'].lower())\n",
        "\n",
        "        print(f\"Correct predictions: {correct}\")\n",
        "        print(f\"Accuracy: {(correct/total)*100:.1f}%\\n\")\n"
      ]
    },
    {
      "cell_type": "markdown",
      "source": [
        "# OpenAI API Key Setup\n",
        "\n",
        "## What is an API Key?\n",
        "An API key functions like a password that grants access to OpenAI's services. It allows you to:\n",
        "- Use OpenAI's models (e.g., GPT-4).\n",
        "- Submit reports for analysis.\n",
        "- Monitor usage and manage access securely.\n",
        "\n",
        "## How to Obtain an OpenAI API Key:\n",
        "1. Visit [OpenAI's platform](https://platform.openai.com/signup) and sign up or log in.\n",
        "2. Navigate to the [API Keys page](https://platform.openai.com/api-keys).\n",
        "3. Click **\"Create new secret key\"**.\n",
        "4. Copy and securely store your API key (you won't be able to view it again!).\n",
        "\n",
        "### Important Notes:\n",
        "- **Keep your API key private** – do not share or store it in public repositories.\n",
        "- **OpenAI services require payment** – ensure you have valid billing information."
      ],
      "metadata": {
        "id": "x0dVAvfx3f5h"
      }
    },
    {
      "cell_type": "code",
      "source": [
        "if 'OPENAI_API_KEY' not in os.environ:\n",
        "    print(\"Please enter your OpenAI API key (it won't be displayed as you type):\")\n",
        "    api_key = getpass.getpass()\n",
        "    os.environ['OPENAI_API_KEY'] = api_key\n",
        "    print(\"OpenAI API key set successfully.\")\n",
        "else:\n",
        "    print(\"OpenAI API key already set.\")"
      ],
      "metadata": {
        "colab": {
          "base_uri": "https://localhost:8080/"
        },
        "id": "X8kAmvg13eHi",
        "outputId": "a26548e7-f7f9-409d-fe5c-75a4f2302e64"
      },
      "execution_count": 5,
      "outputs": [
        {
          "output_type": "stream",
          "name": "stdout",
          "text": [
            "Please enter your OpenAI API key (it won't be displayed as you type):\n",
            "··········\n",
            "OpenAI API key set successfully.\n"
          ]
        }
      ]
    },
    {
      "cell_type": "markdown",
      "source": [
        "# Let's Try It Out! 🏥\n",
        "\n",
        "## 1. Zero-Shot Classification\n",
        "\n",
        "In **zero-shot classification**, the model determines whether a given chest X-ray report describes a **normal** or **abnormal** case without prior examples.\n",
        "\n",
        "### How It Works:\n",
        "**Prompt Template:**  \n",
        "- The model receives a structured instruction to classify reports.\n",
        "- The response format is **JSON**, containing the key **\"classification\"** with possible values: `\"normal\"` or `\"abnormal\"`.\n",
        "- The `{report}` placeholder is replaced with an actual chest X-ray report before passing it to the model.\n"
      ],
      "metadata": {
        "id": "lz6W0gxs04-Q"
      }
    },
    {
      "cell_type": "code",
      "source": [
        "single_shot_template = \"\"\"\n",
        "### INSTRUCTION\n",
        "You are a specialist in chest x-ray reports. Your task is to classify if a report is normal or abnormal.\n",
        "Your response should be in a JSON format with the key \"classification\" and the possible values: \"normal\" or \"abnormal\"\n",
        "\n",
        "### REPORT TO CLASSIFY\n",
        "{report}\n",
        "\"\"\"\n",
        "\n",
        "#for seed in range(60, 80):\n",
        "results = classify_multiple_reports(df, n_reports=1, template=single_shot_template)\n",
        "\n",
        "display_results(results, show_original_label=True)\n"
      ],
      "metadata": {
        "colab": {
          "base_uri": "https://localhost:8080/",
          "height": 330
        },
        "id": "48x9wcTL0_m9",
        "outputId": "71aa5841-1458-480c-c6fd-d17dc29154c3"
      },
      "execution_count": 6,
      "outputs": [
        {
          "output_type": "stream",
          "name": "stderr",
          "text": [
            "Classifying reports: 100%|██████████| 1/1 [00:01<00:00,  1.76s/it]"
          ]
        },
        {
          "output_type": "stream",
          "name": "stdout",
          "text": [
            "\n",
            "Report #306:\n",
            "==================================================\n",
            "Report text:\n"
          ]
        },
        {
          "output_type": "stream",
          "name": "stderr",
          "text": [
            "\n"
          ]
        },
        {
          "output_type": "display_data",
          "data": {
            "text/plain": [
              "'Low lung volumes. Normal heart size. The trachea is midline. Lungs are clear. No pneumothorax. No pleural effusion. No acute cardiopulmonary abnormality.'"
            ],
            "application/vnd.google.colaboratory.intrinsic+json": {
              "type": "string"
            }
          },
          "metadata": {}
        },
        {
          "output_type": "stream",
          "name": "stdout",
          "text": [
            "--------------------------------------------------\n",
            "Original Label : abnormal\n",
            "Predicted Label: normal\n",
            "Classification : Wrong 👎\n",
            "\n",
            "SUMMARY:\n",
            "==================================================\n",
            "\n",
            "Analyzed 1 reports\n",
            "Correct predictions: 0\n",
            "Accuracy: 0.0%\n",
            "\n"
          ]
        }
      ]
    },
    {
      "cell_type": "markdown",
      "source": [
        "### Testing Classification in Multiple Reports"
      ],
      "metadata": {
        "id": "qfcCWv-RLjJW"
      }
    },
    {
      "cell_type": "code",
      "source": [
        "results = classify_multiple_reports(df, n_reports=10, template=single_shot_template)\n",
        "\n",
        "display_results(results, show_original_label=True)"
      ],
      "metadata": {
        "colab": {
          "base_uri": "https://localhost:8080/",
          "height": 1000
        },
        "id": "xMocZs02Ligb",
        "outputId": "1e894abc-0255-401f-c1aa-b57040dc38a7"
      },
      "execution_count": 7,
      "outputs": [
        {
          "output_type": "stream",
          "name": "stderr",
          "text": [
            "Classifying reports: 100%|██████████| 10/10 [00:14<00:00,  1.49s/it]"
          ]
        },
        {
          "output_type": "stream",
          "name": "stdout",
          "text": [
            "\n",
            "Report #306:\n",
            "==================================================\n",
            "Report text:\n"
          ]
        },
        {
          "output_type": "stream",
          "name": "stderr",
          "text": [
            "\n"
          ]
        },
        {
          "output_type": "display_data",
          "data": {
            "text/plain": [
              "'Low lung volumes. Normal heart size. The trachea is midline. Lungs are clear. No pneumothorax. No pleural effusion. No acute cardiopulmonary abnormality.'"
            ],
            "application/vnd.google.colaboratory.intrinsic+json": {
              "type": "string"
            }
          },
          "metadata": {}
        },
        {
          "output_type": "stream",
          "name": "stdout",
          "text": [
            "--------------------------------------------------\n",
            "Original Label : abnormal\n",
            "Predicted Label: normal\n",
            "Classification : Wrong 👎\n",
            "\n",
            "\n",
            "Report #475:\n",
            "==================================================\n",
            "Report text:\n"
          ]
        },
        {
          "output_type": "display_data",
          "data": {
            "text/plain": [
              "'The heart is normal in size. The mediastinum is stable. There is again significant thoracolumbar rotatory scoliosis. The aorta is atherosclerotic. The lungs are hypoinflated but clear. Hypoinflation without acute disease.'"
            ],
            "application/vnd.google.colaboratory.intrinsic+json": {
              "type": "string"
            }
          },
          "metadata": {}
        },
        {
          "output_type": "stream",
          "name": "stdout",
          "text": [
            "--------------------------------------------------\n",
            "Original Label : abnormal\n",
            "Predicted Label: abnormal\n",
            "Classification : Correct ✅\n",
            "\n",
            "\n",
            "Report #3137:\n",
            "==================================================\n",
            "Report text:\n"
          ]
        },
        {
          "output_type": "display_data",
          "data": {
            "text/plain": [
              "'The lungs are clear. The cardiomediastinal silhouette is within normal limits. No pneumothorax or pleural effusion. Negative chest .'"
            ],
            "application/vnd.google.colaboratory.intrinsic+json": {
              "type": "string"
            }
          },
          "metadata": {}
        },
        {
          "output_type": "stream",
          "name": "stdout",
          "text": [
            "--------------------------------------------------\n",
            "Original Label : normal\n",
            "Predicted Label: normal\n",
            "Classification : Correct ✅\n",
            "\n",
            "\n",
            "Report #1672:\n",
            "==================================================\n",
            "Report text:\n"
          ]
        },
        {
          "output_type": "display_data",
          "data": {
            "text/plain": [
              "'Cardiac silhouette and mediastinal contours are within normal limits. There are low lung volumes. There is no focal opacities. No pneumothorax. No large pleural effusion. Low lung volumes without acute cardiopulmonary disease.'"
            ],
            "application/vnd.google.colaboratory.intrinsic+json": {
              "type": "string"
            }
          },
          "metadata": {}
        },
        {
          "output_type": "stream",
          "name": "stdout",
          "text": [
            "--------------------------------------------------\n",
            "Original Label : abnormal\n",
            "Predicted Label: abnormal\n",
            "Classification : Correct ✅\n",
            "\n",
            "\n",
            "Report #1915:\n",
            "==================================================\n",
            "Report text:\n"
          ]
        },
        {
          "output_type": "display_data",
          "data": {
            "text/plain": [
              "'Cardiomediastinal silhouette is normal. Pulmonary vasculature and XXXX are normal. No consolidation, pneumothorax or large pleural effusion. Osseous structures and soft tissues are unchanged. No acute cardiopulmonary disease.'"
            ],
            "application/vnd.google.colaboratory.intrinsic+json": {
              "type": "string"
            }
          },
          "metadata": {}
        },
        {
          "output_type": "stream",
          "name": "stdout",
          "text": [
            "--------------------------------------------------\n",
            "Original Label : normal\n",
            "Predicted Label: normal\n",
            "Classification : Correct ✅\n",
            "\n",
            "\n",
            "Report #1701:\n",
            "==================================================\n",
            "Report text:\n"
          ]
        },
        {
          "output_type": "display_data",
          "data": {
            "text/plain": [
              "'The trachea is midline. The cardiomediastinal silhouette is normal in size and unchanged from prior examinations with sternotomy XXXX and surgical clips overlying. There is blunting of the right costophrenic XXXX which appears unchanged from prior examination and may be secondary to scarring or pleural thickening of the right lung base. There is no evidence of acute infiltrate. There is no pneumothorax. Visualized bony structures reveal no acute abnormalities. 1. Hyperexpanded lung XXXX. 2. No acute cardiopulmonary abnormalities.'"
            ],
            "application/vnd.google.colaboratory.intrinsic+json": {
              "type": "string"
            }
          },
          "metadata": {}
        },
        {
          "output_type": "stream",
          "name": "stdout",
          "text": [
            "--------------------------------------------------\n",
            "Original Label : abnormal\n",
            "Predicted Label: abnormal\n",
            "Classification : Correct ✅\n",
            "\n",
            "\n",
            "Report #1093:\n",
            "==================================================\n",
            "Report text:\n"
          ]
        },
        {
          "output_type": "display_data",
          "data": {
            "text/plain": [
              "'Cardiomediastinal contours within normal limits. Pulmonary vascularity is normal. There are scattered calcified testes bilaterally, consistent with prior granulomatous infection, stable. No XXXX focal airspace consolidation. No pleural effusion, no pneumothorax. Bony structures unremarkable. No acute cardiopulmonary abnormality. Prior granulomatous infection.'"
            ],
            "application/vnd.google.colaboratory.intrinsic+json": {
              "type": "string"
            }
          },
          "metadata": {}
        },
        {
          "output_type": "stream",
          "name": "stdout",
          "text": [
            "--------------------------------------------------\n",
            "Original Label : abnormal\n",
            "Predicted Label: abnormal\n",
            "Classification : Correct ✅\n",
            "\n",
            "\n",
            "Report #3870:\n",
            "==================================================\n",
            "Report text:\n"
          ]
        },
        {
          "output_type": "display_data",
          "data": {
            "text/plain": [
              "'Cardiac silhouette is at the upper limits of normal. Lungs are clear bilaterally. There is no pleural effusion or pneumothorax. Interval worsening of the moderate thoracolumbar dextroscoliosis with mild exaggeration of normal thoracic kyphosis. 1. No acute cardiopulmonary process. 2. Interval worsening of moderate thoracolumbar dextroscoliosis. .'"
            ],
            "application/vnd.google.colaboratory.intrinsic+json": {
              "type": "string"
            }
          },
          "metadata": {}
        },
        {
          "output_type": "stream",
          "name": "stdout",
          "text": [
            "--------------------------------------------------\n",
            "Original Label : abnormal\n",
            "Predicted Label: abnormal\n",
            "Classification : Correct ✅\n",
            "\n",
            "\n",
            "Report #2442:\n",
            "==================================================\n",
            "Report text:\n"
          ]
        },
        {
          "output_type": "display_data",
          "data": {
            "text/plain": [
              "'Chest: The cardiomediastinal silhouette is within normal limits for size and contour. The lungs are normally inflated without evidence of focal airspace disease, pleural effusion, or pneumothorax. Thoracic spine: Mild dextro curvature the upper thoracic spine. Evaluation of the upper thoracic bodies is limited secondary to osseous overlap. Vertebral body XXXX and disc spaces are maintained. Mild degenerative endplate changes. Lumbar spine: There are 5 nonrib-bearing lumbar type vertebral bodies. Alignment is within normal limits. Vertebral body XXXX and disc spaces are maintained. Mild degenerative change without acute displaced fracture or dislocation. Moderate amount of stool.. Chest. No acute radiographic cardiopulmonary process. Thoracic spine. Mild degenerative change without acute bony abnormality. Lumbar spine. Mild degenerative change without acute bony abnormality.'"
            ],
            "application/vnd.google.colaboratory.intrinsic+json": {
              "type": "string"
            }
          },
          "metadata": {}
        },
        {
          "output_type": "stream",
          "name": "stdout",
          "text": [
            "--------------------------------------------------\n",
            "Original Label : normal\n",
            "Predicted Label: abnormal\n",
            "Classification : Wrong 👎\n",
            "\n",
            "\n",
            "Report #1759:\n",
            "==================================================\n",
            "Report text:\n"
          ]
        },
        {
          "output_type": "display_data",
          "data": {
            "text/plain": [
              "'There is moderate cardiomegaly. No interstitial edema or pleural effusion. No focal airspace consolidation. No pneumothorax. There is mild degenerative disc disease of the thoracic spine. 1. Cardiomegaly without radiographic evidence of heart failure. 2. No acute cardiopulmonary abnormality.'"
            ],
            "application/vnd.google.colaboratory.intrinsic+json": {
              "type": "string"
            }
          },
          "metadata": {}
        },
        {
          "output_type": "stream",
          "name": "stdout",
          "text": [
            "--------------------------------------------------\n",
            "Original Label : abnormal\n",
            "Predicted Label: abnormal\n",
            "Classification : Correct ✅\n",
            "\n",
            "SUMMARY:\n",
            "==================================================\n",
            "\n",
            "Analyzed 10 reports\n",
            "Correct predictions: 8\n",
            "Accuracy: 80.0%\n",
            "\n"
          ]
        }
      ]
    },
    {
      "cell_type": "markdown",
      "source": [
        "## 2. Few-Shot Classification\n",
        "\n",
        "Zero-shot classification may not always be accurate. To enhance performance, we use **few-shot prompting**, where the model is provided with a few labeled examples to improve its accuracy.\n",
        "\n",
        "### How It Works:\n",
        "**Prompt Template:**  \n",
        "- The `{examples}` placeholder contains relevant instances of abnormalities.\n",
        "- The `{report}` placeholder is replaced with an actual chest X-ray report.\n",
        "- The model is instructed to classify a report as **abnormal** if it contains specific **findings**."
      ],
      "metadata": {
        "id": "ebiLxukC5k3q"
      }
    },
    {
      "cell_type": "code",
      "source": [
        "few_show_template = \"\"\"\n",
        "### INSTRUCTION\n",
        "You are a specialist in chest X-ray reports.\n",
        "Your task is to classify a report as abnormal if it describes signs of {looking_for}, such as:\n",
        "{examples}\n",
        "Consider the finding positive even if it is mild.\n",
        "Your response should be in a JSON format with the key 'classification' and the possible values: 'normal' or 'abnormal'\n",
        "\n",
        "### REPORT TO CLASSIFY\n",
        "{report}\n",
        "\"\"\"\n",
        "\n",
        "looking_for='any abnormalities'\n",
        "\n",
        "examples = \"\"\"\n",
        "- Low or high lung volume\n",
        "- Abnormalities in the lungs, bones, heart, mediastinum or pleura\n",
        "- Abnormal calcifications and/or granulomas\n",
        "- Abormalities in the neck or abdomen\n",
        "\"\"\"\n",
        "\n",
        "print(f\"\\n{looking_for.capitalize()} Classifier\")\n",
        "print(f\"Examples: {examples}\")\n",
        "\n",
        "\n",
        "results = classify_multiple_reports(df, n_reports=10,\n",
        "                                    template=few_show_template,\n",
        "                                    looking_for=looking_for,\n",
        "                                    examples=examples)\n",
        "\n",
        "display_results(results, show_original_label=True)"
      ],
      "metadata": {
        "colab": {
          "base_uri": "https://localhost:8080/",
          "height": 1000
        },
        "id": "D605KDra5xWA",
        "outputId": "385da75c-b93f-42b0-81ec-4fdb8d37fecb"
      },
      "execution_count": 8,
      "outputs": [
        {
          "output_type": "stream",
          "name": "stdout",
          "text": [
            "\n",
            "Any abnormalities Classifier\n",
            "Examples: \n",
            "- Low or high lung volume\n",
            "- Abnormalities in the lungs, bones, heart, mediastinum or pleura\n",
            "- Abnormal calcifications and/or granulomas\n",
            "- Abormalities in the neck or abdomen \n",
            "\n"
          ]
        },
        {
          "output_type": "stream",
          "name": "stderr",
          "text": [
            "Classifying reports: 100%|██████████| 10/10 [00:12<00:00,  1.24s/it]"
          ]
        },
        {
          "output_type": "stream",
          "name": "stdout",
          "text": [
            "\n",
            "Report #306:\n",
            "==================================================\n",
            "Report text:\n"
          ]
        },
        {
          "output_type": "stream",
          "name": "stderr",
          "text": [
            "\n"
          ]
        },
        {
          "output_type": "display_data",
          "data": {
            "text/plain": [
              "'Low lung volumes. Normal heart size. The trachea is midline. Lungs are clear. No pneumothorax. No pleural effusion. No acute cardiopulmonary abnormality.'"
            ],
            "application/vnd.google.colaboratory.intrinsic+json": {
              "type": "string"
            }
          },
          "metadata": {}
        },
        {
          "output_type": "stream",
          "name": "stdout",
          "text": [
            "--------------------------------------------------\n",
            "Original Label : abnormal\n",
            "Predicted Label: abnormal\n",
            "Classification : Correct ✅\n",
            "\n",
            "\n",
            "Report #475:\n",
            "==================================================\n",
            "Report text:\n"
          ]
        },
        {
          "output_type": "display_data",
          "data": {
            "text/plain": [
              "'The heart is normal in size. The mediastinum is stable. There is again significant thoracolumbar rotatory scoliosis. The aorta is atherosclerotic. The lungs are hypoinflated but clear. Hypoinflation without acute disease.'"
            ],
            "application/vnd.google.colaboratory.intrinsic+json": {
              "type": "string"
            }
          },
          "metadata": {}
        },
        {
          "output_type": "stream",
          "name": "stdout",
          "text": [
            "--------------------------------------------------\n",
            "Original Label : abnormal\n",
            "Predicted Label: abnormal\n",
            "Classification : Correct ✅\n",
            "\n",
            "\n",
            "Report #3137:\n",
            "==================================================\n",
            "Report text:\n"
          ]
        },
        {
          "output_type": "display_data",
          "data": {
            "text/plain": [
              "'The lungs are clear. The cardiomediastinal silhouette is within normal limits. No pneumothorax or pleural effusion. Negative chest .'"
            ],
            "application/vnd.google.colaboratory.intrinsic+json": {
              "type": "string"
            }
          },
          "metadata": {}
        },
        {
          "output_type": "stream",
          "name": "stdout",
          "text": [
            "--------------------------------------------------\n",
            "Original Label : normal\n",
            "Predicted Label: normal\n",
            "Classification : Correct ✅\n",
            "\n",
            "\n",
            "Report #1672:\n",
            "==================================================\n",
            "Report text:\n"
          ]
        },
        {
          "output_type": "display_data",
          "data": {
            "text/plain": [
              "'Cardiac silhouette and mediastinal contours are within normal limits. There are low lung volumes. There is no focal opacities. No pneumothorax. No large pleural effusion. Low lung volumes without acute cardiopulmonary disease.'"
            ],
            "application/vnd.google.colaboratory.intrinsic+json": {
              "type": "string"
            }
          },
          "metadata": {}
        },
        {
          "output_type": "stream",
          "name": "stdout",
          "text": [
            "--------------------------------------------------\n",
            "Original Label : abnormal\n",
            "Predicted Label: abnormal\n",
            "Classification : Correct ✅\n",
            "\n",
            "\n",
            "Report #1915:\n",
            "==================================================\n",
            "Report text:\n"
          ]
        },
        {
          "output_type": "display_data",
          "data": {
            "text/plain": [
              "'Cardiomediastinal silhouette is normal. Pulmonary vasculature and XXXX are normal. No consolidation, pneumothorax or large pleural effusion. Osseous structures and soft tissues are unchanged. No acute cardiopulmonary disease.'"
            ],
            "application/vnd.google.colaboratory.intrinsic+json": {
              "type": "string"
            }
          },
          "metadata": {}
        },
        {
          "output_type": "stream",
          "name": "stdout",
          "text": [
            "--------------------------------------------------\n",
            "Original Label : normal\n",
            "Predicted Label: normal\n",
            "Classification : Correct ✅\n",
            "\n",
            "\n",
            "Report #1701:\n",
            "==================================================\n",
            "Report text:\n"
          ]
        },
        {
          "output_type": "display_data",
          "data": {
            "text/plain": [
              "'The trachea is midline. The cardiomediastinal silhouette is normal in size and unchanged from prior examinations with sternotomy XXXX and surgical clips overlying. There is blunting of the right costophrenic XXXX which appears unchanged from prior examination and may be secondary to scarring or pleural thickening of the right lung base. There is no evidence of acute infiltrate. There is no pneumothorax. Visualized bony structures reveal no acute abnormalities. 1. Hyperexpanded lung XXXX. 2. No acute cardiopulmonary abnormalities.'"
            ],
            "application/vnd.google.colaboratory.intrinsic+json": {
              "type": "string"
            }
          },
          "metadata": {}
        },
        {
          "output_type": "stream",
          "name": "stdout",
          "text": [
            "--------------------------------------------------\n",
            "Original Label : abnormal\n",
            "Predicted Label: abnormal\n",
            "Classification : Correct ✅\n",
            "\n",
            "\n",
            "Report #1093:\n",
            "==================================================\n",
            "Report text:\n"
          ]
        },
        {
          "output_type": "display_data",
          "data": {
            "text/plain": [
              "'Cardiomediastinal contours within normal limits. Pulmonary vascularity is normal. There are scattered calcified testes bilaterally, consistent with prior granulomatous infection, stable. No XXXX focal airspace consolidation. No pleural effusion, no pneumothorax. Bony structures unremarkable. No acute cardiopulmonary abnormality. Prior granulomatous infection.'"
            ],
            "application/vnd.google.colaboratory.intrinsic+json": {
              "type": "string"
            }
          },
          "metadata": {}
        },
        {
          "output_type": "stream",
          "name": "stdout",
          "text": [
            "--------------------------------------------------\n",
            "Original Label : abnormal\n",
            "Predicted Label: abnormal\n",
            "Classification : Correct ✅\n",
            "\n",
            "\n",
            "Report #3870:\n",
            "==================================================\n",
            "Report text:\n"
          ]
        },
        {
          "output_type": "display_data",
          "data": {
            "text/plain": [
              "'Cardiac silhouette is at the upper limits of normal. Lungs are clear bilaterally. There is no pleural effusion or pneumothorax. Interval worsening of the moderate thoracolumbar dextroscoliosis with mild exaggeration of normal thoracic kyphosis. 1. No acute cardiopulmonary process. 2. Interval worsening of moderate thoracolumbar dextroscoliosis. .'"
            ],
            "application/vnd.google.colaboratory.intrinsic+json": {
              "type": "string"
            }
          },
          "metadata": {}
        },
        {
          "output_type": "stream",
          "name": "stdout",
          "text": [
            "--------------------------------------------------\n",
            "Original Label : abnormal\n",
            "Predicted Label: abnormal\n",
            "Classification : Correct ✅\n",
            "\n",
            "\n",
            "Report #2442:\n",
            "==================================================\n",
            "Report text:\n"
          ]
        },
        {
          "output_type": "display_data",
          "data": {
            "text/plain": [
              "'Chest: The cardiomediastinal silhouette is within normal limits for size and contour. The lungs are normally inflated without evidence of focal airspace disease, pleural effusion, or pneumothorax. Thoracic spine: Mild dextro curvature the upper thoracic spine. Evaluation of the upper thoracic bodies is limited secondary to osseous overlap. Vertebral body XXXX and disc spaces are maintained. Mild degenerative endplate changes. Lumbar spine: There are 5 nonrib-bearing lumbar type vertebral bodies. Alignment is within normal limits. Vertebral body XXXX and disc spaces are maintained. Mild degenerative change without acute displaced fracture or dislocation. Moderate amount of stool.. Chest. No acute radiographic cardiopulmonary process. Thoracic spine. Mild degenerative change without acute bony abnormality. Lumbar spine. Mild degenerative change without acute bony abnormality.'"
            ],
            "application/vnd.google.colaboratory.intrinsic+json": {
              "type": "string"
            }
          },
          "metadata": {}
        },
        {
          "output_type": "stream",
          "name": "stdout",
          "text": [
            "--------------------------------------------------\n",
            "Original Label : normal\n",
            "Predicted Label: abnormal\n",
            "Classification : Wrong 👎\n",
            "\n",
            "\n",
            "Report #1759:\n",
            "==================================================\n",
            "Report text:\n"
          ]
        },
        {
          "output_type": "display_data",
          "data": {
            "text/plain": [
              "'There is moderate cardiomegaly. No interstitial edema or pleural effusion. No focal airspace consolidation. No pneumothorax. There is mild degenerative disc disease of the thoracic spine. 1. Cardiomegaly without radiographic evidence of heart failure. 2. No acute cardiopulmonary abnormality.'"
            ],
            "application/vnd.google.colaboratory.intrinsic+json": {
              "type": "string"
            }
          },
          "metadata": {}
        },
        {
          "output_type": "stream",
          "name": "stdout",
          "text": [
            "--------------------------------------------------\n",
            "Original Label : abnormal\n",
            "Predicted Label: abnormal\n",
            "Classification : Correct ✅\n",
            "\n",
            "SUMMARY:\n",
            "==================================================\n",
            "\n",
            "Analyzed 10 reports\n",
            "Correct predictions: 9\n",
            "Accuracy: 90.0%\n",
            "\n"
          ]
        }
      ]
    },
    {
      "cell_type": "markdown",
      "source": [
        "## 3. Condition-Specific Classification\n",
        "\n",
        "In some cases, you may need to classify reports based on specific medical conditions rather than general abnormalities.\n",
        "\n",
        "### How It Works:\n",
        "**Prompt Template:**  \n",
        "- The `{looking_for}` placeholder specifies the condition to be detected (e.g., cardiomegaly, COPD).\n",
        "- The `{examples}` placeholder contains key indicators related to the condition.\n",
        "- The model classifies the report as **\"present\"** or **\"absent\"** based on the findings.\n",
        "\n",
        "### Example: Cardiomegaly Detection\n",
        "- **Signs of Cardiomegaly:**\n",
        "  - Increased heart size\n",
        "  - Enlarged cardiac silhouette\n",
        "  - Increased cardiomediastinal silhouette"
      ],
      "metadata": {
        "id": "UUut9R0XdV_I"
      }
    },
    {
      "cell_type": "code",
      "source": [
        "finding_specific_template = \"\"\"\n",
        "### INSTRUCTION\n",
        "You are a specialist in chest X-ray reports.\n",
        "Your task is to classify a report as positive if it describes signs of {looking_for}, such as:\n",
        "{examples}\n",
        "Consider the finding positive even if it is mild.\n",
        "Your response should be in a JSON format with the key 'classification' and the possible values: 'present' or 'absent'\n",
        "\n",
        "### REPORT TO CLASSIFY\n",
        "{report}\n",
        "\"\"\"\n",
        "\n",
        "looking_for='cardiomegaly'\n",
        "\n",
        "examples = \"\"\"\n",
        "- Increased heart size\n",
        "- Enlarged cardiac silhouette\n",
        "- Increased cardiomediastinal silhouette\n",
        "\"\"\"\n",
        "\n",
        "print(f\"\\n{looking_for.capitalize()} Detection\")\n",
        "print(f\"Examples: {examples}\")\n",
        "\n",
        "\n",
        "results = classify_multiple_reports(df,\n",
        "                                    n_reports=10,\n",
        "                                    template=finding_specific_template,\n",
        "                                    looking_for=looking_for,\n",
        "                                    examples=examples,\n",
        "                                    seed=41)\n",
        "\n",
        "display_results(results, show_original_label=False)"
      ],
      "metadata": {
        "colab": {
          "base_uri": "https://localhost:8080/",
          "height": 1000
        },
        "outputId": "bfbc0472-d09e-42f8-ecee-060634c24710",
        "id": "X38XwG9JdkdJ"
      },
      "execution_count": 9,
      "outputs": [
        {
          "output_type": "stream",
          "name": "stdout",
          "text": [
            "\n",
            "Cardiomegaly Detection\n",
            "Examples: \n",
            "- Increased heart size\n",
            "- Enlarged cardiac silhouette\n",
            "- Increased cardiomediastinal silhouette\n",
            "\n"
          ]
        },
        {
          "output_type": "stream",
          "name": "stderr",
          "text": [
            "Classifying reports: 100%|██████████| 10/10 [00:14<00:00,  1.48s/it]"
          ]
        },
        {
          "output_type": "stream",
          "name": "stdout",
          "text": [
            "\n",
            "Report #1560:\n",
            "==================================================\n",
            "Report text:\n"
          ]
        },
        {
          "output_type": "stream",
          "name": "stderr",
          "text": [
            "\n"
          ]
        },
        {
          "output_type": "display_data",
          "data": {
            "text/plain": [
              "'The trachea is midline. The cardio mediastinal silhouette is of normal size and contour. No evidence of focal infiltrate or effusion. Low lung volumes XXXX XXXX atelectasis and bronchovascular crowding. There is no pneumothorax. The visualized bony structures reveal no acute abnormalities. Lateral view reveals degenerative changes of the thoracic spine. 1. No acute cardiopulmonary abnormalities. 2. Low lung volumes causing bibasilar atelectasis and bronchovascular crowding .'"
            ],
            "application/vnd.google.colaboratory.intrinsic+json": {
              "type": "string"
            }
          },
          "metadata": {}
        },
        {
          "output_type": "stream",
          "name": "stdout",
          "text": [
            "--------------------------------------------------\n",
            "Finding: absent 👎\n",
            "\n",
            "\n",
            "Report #1360:\n",
            "==================================================\n",
            "Report text:\n"
          ]
        },
        {
          "output_type": "display_data",
          "data": {
            "text/plain": [
              "'The XXXX examination consists of frontal and lateral radiographs of the chest. The cardiomediastinal contours are within normal limits. Pulmonary vascularity is within normal limits. No focal consolidation, pleural effusion, or pneumothorax identified. Old healed left 5th and 6th rib fractures are seen laterally. No evidence of acute cardiopulmonary process.'"
            ],
            "application/vnd.google.colaboratory.intrinsic+json": {
              "type": "string"
            }
          },
          "metadata": {}
        },
        {
          "output_type": "stream",
          "name": "stdout",
          "text": [
            "--------------------------------------------------\n",
            "Finding: absent 👎\n",
            "\n",
            "\n",
            "Report #945:\n",
            "==================================================\n",
            "Report text:\n"
          ]
        },
        {
          "output_type": "display_data",
          "data": {
            "text/plain": [
              "'The lungs are clear. There is no pleural effusion or pneumothorax. The heart and mediastinum are normal. The skeletal structures are normal. No acute pulmonary disease.'"
            ],
            "application/vnd.google.colaboratory.intrinsic+json": {
              "type": "string"
            }
          },
          "metadata": {}
        },
        {
          "output_type": "stream",
          "name": "stdout",
          "text": [
            "--------------------------------------------------\n",
            "Finding: absent 👎\n",
            "\n",
            "\n",
            "Report #680:\n",
            "==================================================\n",
            "Report text:\n"
          ]
        },
        {
          "output_type": "display_data",
          "data": {
            "text/plain": [
              "'Cardiomediastinal silhouettes are within normal limits. Lungs are without focal consolidation, pneumothorax, or pleural effusion. Grossly unchanged appearance of calcified hilar lymph XXXX and scattered calcified granulomas. Stable degenerative changes in the spine. No acute cardiopulmonary abnormalities.'"
            ],
            "application/vnd.google.colaboratory.intrinsic+json": {
              "type": "string"
            }
          },
          "metadata": {}
        },
        {
          "output_type": "stream",
          "name": "stdout",
          "text": [
            "--------------------------------------------------\n",
            "Finding: absent 👎\n",
            "\n",
            "\n",
            "Report #3694:\n",
            "==================================================\n",
            "Report text:\n"
          ]
        },
        {
          "output_type": "display_data",
          "data": {
            "text/plain": [
              "'Heart size normal. Lungs are clear. XXXX are normal. No pneumonia, effusions, edema, pneumothorax, adenopathy, nodules or masses. Normal chest'"
            ],
            "application/vnd.google.colaboratory.intrinsic+json": {
              "type": "string"
            }
          },
          "metadata": {}
        },
        {
          "output_type": "stream",
          "name": "stdout",
          "text": [
            "--------------------------------------------------\n",
            "Finding: absent 👎\n",
            "\n",
            "\n",
            "Report #3743:\n",
            "==================================================\n",
            "Report text:\n"
          ]
        },
        {
          "output_type": "display_data",
          "data": {
            "text/plain": [
              "'No focal consolidation, pneumothorax or definite pleural effusion. Heart size within normal limits, no mediastinal widening characteristic in appearance of vascular injury. No acute osseous injury XXXX demonstrated. No acute XXXX related findings. Please note that fractures may not be demonstrated and consider additional imaging if clinically indicated.'"
            ],
            "application/vnd.google.colaboratory.intrinsic+json": {
              "type": "string"
            }
          },
          "metadata": {}
        },
        {
          "output_type": "stream",
          "name": "stdout",
          "text": [
            "--------------------------------------------------\n",
            "Finding: absent 👎\n",
            "\n",
            "\n",
            "Report #1579:\n",
            "==================================================\n",
            "Report text:\n"
          ]
        },
        {
          "output_type": "display_data",
          "data": {
            "text/plain": [
              "'The heart and lungs have XXXX XXXX in the interval. Both lungs are clear and expanded. Heart and mediastinum normal. No active disease.'"
            ],
            "application/vnd.google.colaboratory.intrinsic+json": {
              "type": "string"
            }
          },
          "metadata": {}
        },
        {
          "output_type": "stream",
          "name": "stdout",
          "text": [
            "--------------------------------------------------\n",
            "Finding: absent 👎\n",
            "\n",
            "\n",
            "Report #2367:\n",
            "==================================================\n",
            "Report text:\n"
          ]
        },
        {
          "output_type": "display_data",
          "data": {
            "text/plain": [
              "'The heart size and mediastinal silhouette are within normal limits. No pneumothorax or pleural effusions. The lungs are clear. No focal consolidations. The osseous structures are intact. Calcification in the right upper quadrant of the abdomen XXXX consistent with gallstone. No acute cardiopulmonary abnormalities.'"
            ],
            "application/vnd.google.colaboratory.intrinsic+json": {
              "type": "string"
            }
          },
          "metadata": {}
        },
        {
          "output_type": "stream",
          "name": "stdout",
          "text": [
            "--------------------------------------------------\n",
            "Finding: absent 👎\n",
            "\n",
            "\n",
            "Report #3671:\n",
            "==================================================\n",
            "Report text:\n"
          ]
        },
        {
          "output_type": "display_data",
          "data": {
            "text/plain": [
              "'The lungs are clear. No pleural effusion is seen. The heart and mediastinum are normal. The skeletal structures are normal. There are surgical clips in the right axilla region. No active disease.'"
            ],
            "application/vnd.google.colaboratory.intrinsic+json": {
              "type": "string"
            }
          },
          "metadata": {}
        },
        {
          "output_type": "stream",
          "name": "stdout",
          "text": [
            "--------------------------------------------------\n",
            "Finding: absent 👎\n",
            "\n",
            "\n",
            "Report #2826:\n",
            "==================================================\n",
            "Report text:\n"
          ]
        },
        {
          "output_type": "display_data",
          "data": {
            "text/plain": [
              "'Stable cardiomegaly with left-sided implanted ICD. Hilar pulmonary venous vasculature stable compared to prior examination. No focal consolidation, pneumothorax, or large pleural effusions identified. No acute osseous abnormality is identified. Stable cardiomegaly without evidence of overt heart failure/pulmonary edema.'"
            ],
            "application/vnd.google.colaboratory.intrinsic+json": {
              "type": "string"
            }
          },
          "metadata": {}
        },
        {
          "output_type": "stream",
          "name": "stdout",
          "text": [
            "--------------------------------------------------\n",
            "Finding: present ✅\n",
            "\n",
            "SUMMARY:\n",
            "==================================================\n",
            "\n",
            "Analyzed 10 reports\n"
          ]
        }
      ]
    },
    {
      "cell_type": "markdown",
      "source": [
        "# Create Your Own Specialized Classifier! 🚀\n",
        "\n",
        "You can create a custom classifier for any specific condition by following these steps:\n",
        "\n",
        "1. **Define the condition** you want to detect (e.g., COPD, pleural effusion).\n",
        "2. **Specify key indicators** associated with the condition.\n",
        "3. **Modify the template** to reflect the new condition and findings.\n",
        "4. **Run the model** to classify reports based on your selected condition.\n",
        "\n",
        "### Example: COPD Detection\n",
        "- **Signs of COPD:**\n",
        "  - Hyperinflated lungs\n",
        "  - Flattened diaphragm\n",
        "  - Increased retrosternal airspace\n",
        "  - Narrowed cardiac silhouette\n",
        "  - Emphysematous changes\n"
      ],
      "metadata": {
        "id": "tAM9hP486YF6"
      }
    },
    {
      "cell_type": "code",
      "source": [
        "finding_specific_template = \"\"\"\n",
        "### INSTRUCTION\n",
        "You are a specialist in chest X-ray reports.\n",
        "Your task is to classify a report as positive if it describes signs of {looking_for}, such as:\n",
        "{examples}\n",
        "Consider the finding positive even if it is mild.\n",
        "Your response should be in a JSON format with the key 'classification' and the possible values: 'present' or 'absent'\n",
        "\n",
        "### REPORT TO CLASSIFY\n",
        "{report}\n",
        "\"\"\"\n",
        "\n",
        "looking_for = 'COPD (Chronic Obstructive Pulmonary Disease)'\n",
        "\n",
        "examples = \"\"\"\n",
        "- Hyperinflated lungs\n",
        "- Flattened diaphragm\n",
        "- Increased retrosternal airspace\n",
        "- Narrowed cardiac silhouette\n",
        "- Emphysematous changes\n",
        "\"\"\"\n",
        "\n",
        "print(f\"\\n{looking_for.capitalize()} Detection\")\n",
        "print(f\"Examples: {examples}\")\n",
        "\n",
        "\n",
        "results = classify_multiple_reports(df,\n",
        "                                    n_reports=10,\n",
        "                                    template=finding_specific_template,\n",
        "                                    looking_for=looking_for,\n",
        "                                    examples=examples,\n",
        "                                    seed=60)\n",
        "\n",
        "display_results(results, show_original_label=False)"
      ],
      "metadata": {
        "colab": {
          "base_uri": "https://localhost:8080/",
          "height": 1000
        },
        "id": "Vl69b67G6XZ_",
        "outputId": "593398ae-dc7a-434d-fe03-6875a4652e08"
      },
      "execution_count": 10,
      "outputs": [
        {
          "output_type": "stream",
          "name": "stdout",
          "text": [
            "\n",
            "Copd (chronic obstructive pulmonary disease) Detection\n",
            "Examples: \n",
            "- Hyperinflated lungs\n",
            "- Flattened diaphragm\n",
            "- Increased retrosternal airspace\n",
            "- Narrowed cardiac silhouette\n",
            "- Emphysematous changes\n",
            "\n"
          ]
        },
        {
          "output_type": "stream",
          "name": "stderr",
          "text": [
            "Classifying reports: 100%|██████████| 10/10 [00:13<00:00,  1.37s/it]"
          ]
        },
        {
          "output_type": "stream",
          "name": "stdout",
          "text": [
            "\n",
            "Report #1260:\n",
            "==================================================\n",
            "Report text:\n"
          ]
        },
        {
          "output_type": "stream",
          "name": "stderr",
          "text": [
            "\n"
          ]
        },
        {
          "output_type": "display_data",
          "data": {
            "text/plain": [
              "'Normal heart size and mediastinal contours. Patchy right lower lobe airspace opacities. No pleural effusion or pneumothorax. Visualized osseous structures are unremarkable in appearance. Mild, nonconsolidating right lower lobe airspace disease. This may represent an early pneumonia.'"
            ],
            "application/vnd.google.colaboratory.intrinsic+json": {
              "type": "string"
            }
          },
          "metadata": {}
        },
        {
          "output_type": "stream",
          "name": "stdout",
          "text": [
            "--------------------------------------------------\n",
            "Finding: absent 👎\n",
            "\n",
            "\n",
            "Report #1160:\n",
            "==================================================\n",
            "Report text:\n"
          ]
        },
        {
          "output_type": "display_data",
          "data": {
            "text/plain": [
              "'The central venous line has been removed. An inflammatory defibrillator is noted. The heart is enlarged. The patient is status post XXXX sternotomy. Right pleural effusion is present and unchanged. No pneumothorax is seen. There has been clearing of the left base airspace disease. Some continued right lung opacities are present which may represent areas of scarring. 1. Cardiomegaly without overt heart failure. 2. Small right pleural effusion. No change. 3. Clearing of left base airspace disease. 4. Improvement in right lung airspace disease.'"
            ],
            "application/vnd.google.colaboratory.intrinsic+json": {
              "type": "string"
            }
          },
          "metadata": {}
        },
        {
          "output_type": "stream",
          "name": "stdout",
          "text": [
            "--------------------------------------------------\n",
            "Finding: absent 👎\n",
            "\n",
            "\n",
            "Report #2367:\n",
            "==================================================\n",
            "Report text:\n"
          ]
        },
        {
          "output_type": "display_data",
          "data": {
            "text/plain": [
              "'The heart size and mediastinal silhouette are within normal limits. No pneumothorax or pleural effusions. The lungs are clear. No focal consolidations. The osseous structures are intact. Calcification in the right upper quadrant of the abdomen XXXX consistent with gallstone. No acute cardiopulmonary abnormalities.'"
            ],
            "application/vnd.google.colaboratory.intrinsic+json": {
              "type": "string"
            }
          },
          "metadata": {}
        },
        {
          "output_type": "stream",
          "name": "stdout",
          "text": [
            "--------------------------------------------------\n",
            "Finding: absent 👎\n",
            "\n",
            "\n",
            "Report #631:\n",
            "==================================================\n",
            "Report text:\n"
          ]
        },
        {
          "output_type": "display_data",
          "data": {
            "text/plain": [
              "'Heart size normal and lungs are clear. Old healed left lateral rib fractures.'"
            ],
            "application/vnd.google.colaboratory.intrinsic+json": {
              "type": "string"
            }
          },
          "metadata": {}
        },
        {
          "output_type": "stream",
          "name": "stdout",
          "text": [
            "--------------------------------------------------\n",
            "Finding: absent 👎\n",
            "\n",
            "\n",
            "Report #1087:\n",
            "==================================================\n",
            "Report text:\n"
          ]
        },
        {
          "output_type": "display_data",
          "data": {
            "text/plain": [
              "'The cardiac contours are normal. Prominent hilar contours. The lungs are clear. Thoracic spondylosis.'"
            ],
            "application/vnd.google.colaboratory.intrinsic+json": {
              "type": "string"
            }
          },
          "metadata": {}
        },
        {
          "output_type": "stream",
          "name": "stdout",
          "text": [
            "--------------------------------------------------\n",
            "Finding: absent 👎\n",
            "\n",
            "\n",
            "Report #940:\n",
            "==================================================\n",
            "Report text:\n"
          ]
        },
        {
          "output_type": "display_data",
          "data": {
            "text/plain": [
              "'The heart size is normal. The lungs are clear without focal airspace opacity, pleural effusion, or pneumothorax. The osseous structures are intact. There are degenerative changes within the XXXX bilaterally and left acromioclavicular joint. XXXX XXXX in the soft tissues of the right upper extremity. No acute cardiopulmonary findings.'"
            ],
            "application/vnd.google.colaboratory.intrinsic+json": {
              "type": "string"
            }
          },
          "metadata": {}
        },
        {
          "output_type": "stream",
          "name": "stdout",
          "text": [
            "--------------------------------------------------\n",
            "Finding: absent 👎\n",
            "\n",
            "\n",
            "Report #3309:\n",
            "==================================================\n",
            "Report text:\n"
          ]
        },
        {
          "output_type": "display_data",
          "data": {
            "text/plain": [
              "'Heart size is within normal limits. No focal airspace consolidations. No pneumothorax or pleural effusion. There are degenerative changes of the midthoracic spine. No acute cardiopulmonary findings.'"
            ],
            "application/vnd.google.colaboratory.intrinsic+json": {
              "type": "string"
            }
          },
          "metadata": {}
        },
        {
          "output_type": "stream",
          "name": "stdout",
          "text": [
            "--------------------------------------------------\n",
            "Finding: absent 👎\n",
            "\n",
            "\n",
            "Report #1980:\n",
            "==================================================\n",
            "Report text:\n"
          ]
        },
        {
          "output_type": "display_data",
          "data": {
            "text/plain": [
              "'No focal lung consolidation. Heart size and pulmonary vascularity are within normal limits. No pneumothorax or pleural effusion. Osseous structures are grossly intact. No acute cardiopulmonary process.'"
            ],
            "application/vnd.google.colaboratory.intrinsic+json": {
              "type": "string"
            }
          },
          "metadata": {}
        },
        {
          "output_type": "stream",
          "name": "stdout",
          "text": [
            "--------------------------------------------------\n",
            "Finding: absent 👎\n",
            "\n",
            "\n",
            "Report #1913:\n",
            "==================================================\n",
            "Report text:\n"
          ]
        },
        {
          "output_type": "display_data",
          "data": {
            "text/plain": [
              "'There are chronic changes in both lungs with appearance of emphysema. No acute airspace disease. No pulmonary edema. No XXXX of pleural effusions. Findings are grossly unchanged compared with prior chest CT from XXXX.'"
            ],
            "application/vnd.google.colaboratory.intrinsic+json": {
              "type": "string"
            }
          },
          "metadata": {}
        },
        {
          "output_type": "stream",
          "name": "stdout",
          "text": [
            "--------------------------------------------------\n",
            "Finding: present ✅\n",
            "\n",
            "\n",
            "Report #3626:\n",
            "==================================================\n",
            "Report text:\n"
          ]
        },
        {
          "output_type": "display_data",
          "data": {
            "text/plain": [
              "'The cardiac silhouette size is at the upper limits of normal. Central vascular markings are mildly prominent. The lungs are normally inflated with no focal airspace disease, pleural effusion, or pneumothorax. No acute bony abnormality. 1. Mild central vascular prominence, XXXX congestion. Heart size at the upper limits of normal.'"
            ],
            "application/vnd.google.colaboratory.intrinsic+json": {
              "type": "string"
            }
          },
          "metadata": {}
        },
        {
          "output_type": "stream",
          "name": "stdout",
          "text": [
            "--------------------------------------------------\n",
            "Finding: absent 👎\n",
            "\n",
            "SUMMARY:\n",
            "==================================================\n",
            "\n",
            "Analyzed 10 reports\n"
          ]
        }
      ]
    },
    {
      "cell_type": "markdown",
      "source": [
        "# Conclusion & Next Steps 📌\n",
        "\n",
        "Through this notebook, we've explored how **prompt engineering** enhances the classification of radiology reports using LLMs.\n",
        "\n",
        "### Key Takeaways:\n",
        "✅ **Zero-shot prompting** enables classification without prior examples.  \n",
        "✅ **Few-shot prompting** improves accuracy by providing labeled examples.  \n",
        "✅ **Condition-specific classification** allows targeted detection of medical conditions.  \n",
        "\n",
        "### What’s Next?\n",
        "Now that you understand the fundamentals, here are some next steps:\n",
        "1. **Test additional conditions** by modifying the `{looking_for}` and `{examples}` variables.\n",
        "2. **Experiment with different LLM models** to compare performance.\n",
        "3. **Refine your prompts** to improve classification accuracy.\n",
        "4. **Apply real-world datasets** to validate the model in clinical settings.\n",
        "\n",
        "By leveraging **LLMs and prompt engineering**, we can enhance efficiency in **radiology report classification**, aiding medical professionals in making informed decisions. 🏥💡\n",
        "\n",
        "---\n",
        "\n",
        "### Credits\n",
        "This notebook is adapted from work by **Paulo Kuriki** and **Felipe Kitamura**.\n"
      ],
      "metadata": {
        "id": "S-HzYkVcq4H-"
      }
    },
    {
      "cell_type": "code",
      "source": [],
      "metadata": {
        "id": "Rx3CrCQ25tKg"
      },
      "execution_count": 10,
      "outputs": []
    }
  ]
}