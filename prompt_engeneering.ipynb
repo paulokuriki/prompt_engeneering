{
  "nbformat": 4,
  "nbformat_minor": 0,
  "metadata": {
    "colab": {
      "provenance": [],
      "authorship_tag": "ABX9TyMPxig1GPR2nZaN9uCjwImK",
      "include_colab_link": true
    },
    "kernelspec": {
      "name": "python3",
      "display_name": "Python 3"
    },
    "language_info": {
      "name": "python"
    }
  },
  "cells": [
    {
      "cell_type": "markdown",
      "metadata": {
        "id": "view-in-github",
        "colab_type": "text"
      },
      "source": [
        "<a href=\"https://colab.research.google.com/github/paulokuriki/prompt_engeneering/blob/main/prompt_engeneering.ipynb\" target=\"_parent\"><img src=\"https://colab.research.google.com/assets/colab-badge.svg\" alt=\"Open In Colab\"/></a>"
      ]
    },
    {
      "cell_type": "markdown",
      "source": [
        "# Radiology Report Classification with Large Language Models\n",
        "\n",
        "## Learning Objectives\n",
        "\n",
        "By the end of this session, you will be able to:\n",
        "- Understand how Large Language Models (LLMs) can assist in radiology report classification.\n",
        "- Apply effective prompting techniques for medical report analysis.\n",
        "- Develop specialized classifiers for different radiological findings.\n",
        "\n",
        "---\n",
        "\n",
        "# Introduction\n",
        "\n",
        "Radiologists often need to classify reports based on specific findings or conditions. **Large Language Models (LLMs)** can streamline this process, improving efficiency and consistency in report classification. This tutorial demonstrates how to leverage LLMs for various classification tasks in radiology."
      ],
      "metadata": {
        "id": "TjB-Gp_irs_p"
      }
    },
    {
      "cell_type": "markdown",
      "source": [],
      "metadata": {
        "id": "rJRr-DUmrqL8"
      }
    },
    {
      "cell_type": "markdown",
      "source": [
        "\n",
        "# Setup and Data Loading\n",
        "\n",
        "To begin, we'll import the required libraries and load the dataset."
      ],
      "metadata": {
        "id": "CUF0mJun0Mlo"
      }
    },
    {
      "cell_type": "code",
      "source": [
        "pip install langchain_openai"
      ],
      "metadata": {
        "colab": {
          "base_uri": "https://localhost:8080/"
        },
        "collapsed": true,
        "id": "FZq6ldkz0bRc",
        "outputId": "c3ad3f98-9f22-41b1-ed22-054930869a38"
      },
      "execution_count": 2,
      "outputs": [
        {
          "output_type": "stream",
          "name": "stdout",
          "text": [
            "Collecting langchain_openai\n",
            "  Downloading langchain_openai-0.3.6-py3-none-any.whl.metadata (2.3 kB)\n",
            "Requirement already satisfied: langchain-core<1.0.0,>=0.3.35 in /usr/local/lib/python3.11/dist-packages (from langchain_openai) (0.3.35)\n",
            "Requirement already satisfied: openai<2.0.0,>=1.58.1 in /usr/local/lib/python3.11/dist-packages (from langchain_openai) (1.61.1)\n",
            "Collecting tiktoken<1,>=0.7 (from langchain_openai)\n",
            "  Downloading tiktoken-0.9.0-cp311-cp311-manylinux_2_17_x86_64.manylinux2014_x86_64.whl.metadata (6.7 kB)\n",
            "Requirement already satisfied: langsmith<0.4,>=0.1.125 in /usr/local/lib/python3.11/dist-packages (from langchain-core<1.0.0,>=0.3.35->langchain_openai) (0.3.8)\n",
            "Requirement already satisfied: tenacity!=8.4.0,<10.0.0,>=8.1.0 in /usr/local/lib/python3.11/dist-packages (from langchain-core<1.0.0,>=0.3.35->langchain_openai) (9.0.0)\n",
            "Requirement already satisfied: jsonpatch<2.0,>=1.33 in /usr/local/lib/python3.11/dist-packages (from langchain-core<1.0.0,>=0.3.35->langchain_openai) (1.33)\n",
            "Requirement already satisfied: PyYAML>=5.3 in /usr/local/lib/python3.11/dist-packages (from langchain-core<1.0.0,>=0.3.35->langchain_openai) (6.0.2)\n",
            "Requirement already satisfied: packaging<25,>=23.2 in /usr/local/lib/python3.11/dist-packages (from langchain-core<1.0.0,>=0.3.35->langchain_openai) (24.2)\n",
            "Requirement already satisfied: typing-extensions>=4.7 in /usr/local/lib/python3.11/dist-packages (from langchain-core<1.0.0,>=0.3.35->langchain_openai) (4.12.2)\n",
            "Requirement already satisfied: pydantic<3.0.0,>=2.5.2 in /usr/local/lib/python3.11/dist-packages (from langchain-core<1.0.0,>=0.3.35->langchain_openai) (2.10.6)\n",
            "Requirement already satisfied: anyio<5,>=3.5.0 in /usr/local/lib/python3.11/dist-packages (from openai<2.0.0,>=1.58.1->langchain_openai) (3.7.1)\n",
            "Requirement already satisfied: distro<2,>=1.7.0 in /usr/local/lib/python3.11/dist-packages (from openai<2.0.0,>=1.58.1->langchain_openai) (1.9.0)\n",
            "Requirement already satisfied: httpx<1,>=0.23.0 in /usr/local/lib/python3.11/dist-packages (from openai<2.0.0,>=1.58.1->langchain_openai) (0.28.1)\n",
            "Requirement already satisfied: jiter<1,>=0.4.0 in /usr/local/lib/python3.11/dist-packages (from openai<2.0.0,>=1.58.1->langchain_openai) (0.8.2)\n",
            "Requirement already satisfied: sniffio in /usr/local/lib/python3.11/dist-packages (from openai<2.0.0,>=1.58.1->langchain_openai) (1.3.1)\n",
            "Requirement already satisfied: tqdm>4 in /usr/local/lib/python3.11/dist-packages (from openai<2.0.0,>=1.58.1->langchain_openai) (4.67.1)\n",
            "Requirement already satisfied: regex>=2022.1.18 in /usr/local/lib/python3.11/dist-packages (from tiktoken<1,>=0.7->langchain_openai) (2024.11.6)\n",
            "Requirement already satisfied: requests>=2.26.0 in /usr/local/lib/python3.11/dist-packages (from tiktoken<1,>=0.7->langchain_openai) (2.32.3)\n",
            "Requirement already satisfied: idna>=2.8 in /usr/local/lib/python3.11/dist-packages (from anyio<5,>=3.5.0->openai<2.0.0,>=1.58.1->langchain_openai) (3.10)\n",
            "Requirement already satisfied: certifi in /usr/local/lib/python3.11/dist-packages (from httpx<1,>=0.23.0->openai<2.0.0,>=1.58.1->langchain_openai) (2025.1.31)\n",
            "Requirement already satisfied: httpcore==1.* in /usr/local/lib/python3.11/dist-packages (from httpx<1,>=0.23.0->openai<2.0.0,>=1.58.1->langchain_openai) (1.0.7)\n",
            "Requirement already satisfied: h11<0.15,>=0.13 in /usr/local/lib/python3.11/dist-packages (from httpcore==1.*->httpx<1,>=0.23.0->openai<2.0.0,>=1.58.1->langchain_openai) (0.14.0)\n",
            "Requirement already satisfied: jsonpointer>=1.9 in /usr/local/lib/python3.11/dist-packages (from jsonpatch<2.0,>=1.33->langchain-core<1.0.0,>=0.3.35->langchain_openai) (3.0.0)\n",
            "Requirement already satisfied: orjson<4.0.0,>=3.9.14 in /usr/local/lib/python3.11/dist-packages (from langsmith<0.4,>=0.1.125->langchain-core<1.0.0,>=0.3.35->langchain_openai) (3.10.15)\n",
            "Requirement already satisfied: requests-toolbelt<2.0.0,>=1.0.0 in /usr/local/lib/python3.11/dist-packages (from langsmith<0.4,>=0.1.125->langchain-core<1.0.0,>=0.3.35->langchain_openai) (1.0.0)\n",
            "Requirement already satisfied: zstandard<0.24.0,>=0.23.0 in /usr/local/lib/python3.11/dist-packages (from langsmith<0.4,>=0.1.125->langchain-core<1.0.0,>=0.3.35->langchain_openai) (0.23.0)\n",
            "Requirement already satisfied: annotated-types>=0.6.0 in /usr/local/lib/python3.11/dist-packages (from pydantic<3.0.0,>=2.5.2->langchain-core<1.0.0,>=0.3.35->langchain_openai) (0.7.0)\n",
            "Requirement already satisfied: pydantic-core==2.27.2 in /usr/local/lib/python3.11/dist-packages (from pydantic<3.0.0,>=2.5.2->langchain-core<1.0.0,>=0.3.35->langchain_openai) (2.27.2)\n",
            "Requirement already satisfied: charset-normalizer<4,>=2 in /usr/local/lib/python3.11/dist-packages (from requests>=2.26.0->tiktoken<1,>=0.7->langchain_openai) (3.4.1)\n",
            "Requirement already satisfied: urllib3<3,>=1.21.1 in /usr/local/lib/python3.11/dist-packages (from requests>=2.26.0->tiktoken<1,>=0.7->langchain_openai) (2.3.0)\n",
            "Downloading langchain_openai-0.3.6-py3-none-any.whl (54 kB)\n",
            "\u001b[2K   \u001b[90m━━━━━━━━━━━━━━━━━━━━━━━━━━━━━━━━━━━━━━━━\u001b[0m \u001b[32m54.9/54.9 kB\u001b[0m \u001b[31m887.4 kB/s\u001b[0m eta \u001b[36m0:00:00\u001b[0m\n",
            "\u001b[?25hDownloading tiktoken-0.9.0-cp311-cp311-manylinux_2_17_x86_64.manylinux2014_x86_64.whl (1.2 MB)\n",
            "\u001b[2K   \u001b[90m━━━━━━━━━━━━━━━━━━━━━━━━━━━━━━━━━━━━━━━━\u001b[0m \u001b[32m1.2/1.2 MB\u001b[0m \u001b[31m9.2 MB/s\u001b[0m eta \u001b[36m0:00:00\u001b[0m\n",
            "\u001b[?25hInstalling collected packages: tiktoken, langchain_openai\n",
            "Successfully installed langchain_openai-0.3.6 tiktoken-0.9.0\n"
          ]
        }
      ]
    },
    {
      "cell_type": "code",
      "source": [
        "import os\n",
        "import getpass\n",
        "import random\n",
        "import json\n",
        "import requests\n",
        "import tarfile\n",
        "import glob\n",
        "import csv\n",
        "import shutil\n",
        "import xml.etree.ElementTree as ET\n",
        "\n",
        "import pandas as pd\n",
        "import numpy as np\n",
        "from matplotlib import pyplot as plt\n",
        "import seaborn as sns\n",
        "from tqdm import tqdm\n",
        "from langchain_openai import ChatOpenAI\n",
        "from IPython.display import HTML, display"
      ],
      "metadata": {
        "id": "69Nv6EbI0JND"
      },
      "execution_count": 3,
      "outputs": []
    },
    {
      "cell_type": "markdown",
      "source": [
        "## 📥 Downloading the Indiana Chest X-ray Collection Dataset  \n",
        "\n",
        "Downloads, and processes the **Indiana Chest X-ray Collection**, a publicly available dataset provided by the **National Library of Medicine (NLM), National Institutes of Health (NIH)** in collaboration with **Indiana University**.  \n",
        "\n",
        "### 🎯 Acknowledgment:\n",
        "- **Dataset Source**: [Open-i (NLM)](https://openi.nlm.nih.gov/)  \n",
        "- **Reference Paper**:  \n",
        "  > Demner-Fushman D, Kohli MD, Rosenman MB, Shooshan SE, Rodriguez L, Antani S, Thoma GR, McDonald CJ.  \n",
        "  > **Preparing a collection of radiology examinations for distribution and retrieval.**  \n",
        "  > *J Am Med Inform Assoc.* 2016 Mar;23(2):304-10."
      ],
      "metadata": {
        "id": "89bKsPfRITq5"
      }
    },
    {
      "cell_type": "code",
      "source": [
        "# Define URLs and paths\n",
        "TGZ_URL = \"https://openi.nlm.nih.gov/imgs/collections/NLMCXR_reports.tgz\"\n",
        "TGZ_FILE = \"NLMCXR_reports.tgz\"\n",
        "EXTRACT_DIR = \"NLMCXR_reports_extracted\"\n",
        "XML_FOLDER = os.path.join(EXTRACT_DIR, \"ecgen-radiology\")\n",
        "OUTPUT_CSV = \"converted_reports.csv\"\n",
        "\n",
        "# Clean up old files and folders\n",
        "def clean_up():\n",
        "    if os.path.exists(TGZ_FILE):\n",
        "        os.remove(TGZ_FILE)\n",
        "    if os.path.exists(EXTRACT_DIR):\n",
        "        shutil.rmtree(EXTRACT_DIR)\n",
        "    if os.path.exists(OUTPUT_CSV):\n",
        "        os.remove(OUTPUT_CSV)\n",
        "\n",
        "# Download the TGZ file\n",
        "def download_file():\n",
        "    print(\"Downloading dataset...\")\n",
        "    response = requests.get(TGZ_URL, stream=True)\n",
        "    response.raise_for_status()\n",
        "    with open(TGZ_FILE, \"wb\") as f:\n",
        "        for chunk in response.iter_content(chunk_size=8192):\n",
        "            f.write(chunk)\n",
        "    print(\"Dataset downloaded successfully.\")\n",
        "\n",
        "# Extract the TGZ file\n",
        "def extract_tgz():\n",
        "    print(\"Extracting files...\")\n",
        "    with tarfile.open(TGZ_FILE, \"r:gz\") as tar:\n",
        "        tar.extractall(EXTRACT_DIR)\n",
        "    print(\"Files extracted successfully.\")\n",
        "\n",
        "# Parse a single XML file\n",
        "def parse_xml_file(xml_path):\n",
        "    try:\n",
        "        tree = ET.parse(xml_path)\n",
        "        root = tree.getroot()\n",
        "\n",
        "        # Extract AbstractText elements\n",
        "        abstract_texts = root.findall(\".//AbstractText\")\n",
        "\n",
        "        # Extract only the \"Findings\" section\n",
        "        findings_text = \"\"\n",
        "        for abstract in abstract_texts:\n",
        "            label = abstract.attrib.get(\"Label\", \"\").lower()\n",
        "            if label == \"findings\":\n",
        "                findings_text = abstract.text.strip() if abstract.text else \"\"\n",
        "                break  # Stop after finding the \"Findings\" section\n",
        "\n",
        "        # Extract MeSH terms\n",
        "        mesh_major_list = [m.text.strip() for m in root.findall(\".//MeSH/major\") if m.text]\n",
        "        mesh_major = \"|\".join(mesh_major_list) if mesh_major_list else \"\"\n",
        "\n",
        "        return findings_text, mesh_major\n",
        "    except:\n",
        "        return \"\", \"\"\n",
        "\n",
        "# Main function\n",
        "def download_prepare_dataset():\n",
        "    clean_up()\n",
        "    download_file()\n",
        "    extract_tgz()\n",
        "\n",
        "    xml_files = glob.glob(os.path.join(XML_FOLDER, \"*.xml\"))\n",
        "    reports = []\n",
        "    for xml_file in tqdm(xml_files, desc=\"Processing XML files\"):\n",
        "        reports.append(parse_xml_file(xml_file))\n",
        "\n",
        "    with open(OUTPUT_CSV, \"w\", newline=\"\", encoding=\"utf-8\") as csvfile:\n",
        "        writer = csv.writer(csvfile)\n",
        "        writer.writerow([\"Report\", \"MeSH Major\"])\n",
        "        for report, mesh_major in tqdm(reports):\n",
        "            writer.writerow([report, mesh_major])\n",
        "\n",
        "    df = pd.read_csv(OUTPUT_CSV)\n",
        "\n",
        "    df[\"label\"] = df[\"MeSH Major\"].apply(lambda x: \"normal\" if x == \"normal\" else \"abnormal\")\n",
        "    df.rename(columns={\"Report\": \"report\"}, inplace=True)\n",
        "    df = df.map(lambda x: x.strip() if isinstance(x, str) else x)\n",
        "    df = df.replace('', pd.NA).dropna().reset_index(drop=True)\n",
        "    df.to_csv(OUTPUT_CSV, index=False)\n",
        "    print(\"Extraction completed.\")\n",
        "    return df\n",
        "\n",
        "df = download_prepare_dataset()\n",
        "\n",
        "# Show data distribution\n",
        "print(f'Dataset downloaded successfully. Total sample reports: {len(df)}\\n')\n",
        "print(df.label.value_counts())"
      ],
      "metadata": {
        "colab": {
          "base_uri": "https://localhost:8080/"
        },
        "id": "sA5_fdzk0VPM",
        "outputId": "87a118c2-ee5f-4446-ae4e-ade8826c2700"
      },
      "execution_count": 7,
      "outputs": [
        {
          "output_type": "stream",
          "name": "stdout",
          "text": [
            "Downloading dataset...\n",
            "Dataset downloaded successfully.\n",
            "Extracting files...\n",
            "Files extracted successfully.\n"
          ]
        },
        {
          "output_type": "stream",
          "name": "stderr",
          "text": [
            "Processing XML files: 100%|██████████| 3955/3955 [00:00<00:00, 4141.02it/s]\n",
            "100%|██████████| 3955/3955 [00:00<00:00, 89816.95it/s]\n"
          ]
        },
        {
          "output_type": "stream",
          "name": "stdout",
          "text": [
            "Extraction completed.\n",
            "Dataset downloaded successfully. Total sample reports: 3425\n",
            "\n",
            "label\n",
            "abnormal    2219\n",
            "normal      1206\n",
            "Name: count, dtype: int64\n"
          ]
        }
      ]
    },
    {
      "cell_type": "markdown",
      "source": [
        "# Report Classification Functions\n",
        "\n",
        "To facilitate classification, we will define simple yet effective functions that help analyze radiology reports using LLMs.\n"
      ],
      "metadata": {
        "id": "IUjtTdRd0zUD"
      }
    },
    {
      "cell_type": "code",
      "execution_count": 21,
      "metadata": {
        "id": "OQTbrtDHync1"
      },
      "outputs": [],
      "source": [
        "def classify_report(report, template, looking_for=None, examples=None):\n",
        "    \"\"\"\n",
        "    Classify a radiology report using LLM\n",
        "    \"\"\"\n",
        "    llm = ChatOpenAI(\n",
        "        model=\"gpt-4-0125-preview\",\n",
        "        temperature=0,\n",
        "        seed=42,\n",
        "        model_kwargs={\"response_format\": {\"type\": \"json_object\"}}\n",
        "    )\n",
        "\n",
        "    # Format the template with the report and any findings\n",
        "    if looking_for and examples:\n",
        "        prompt = template.format(report=report, looking_for=looking_for, examples=examples)\n",
        "    else:\n",
        "        prompt = template.format(report=report)\n",
        "\n",
        "    try:\n",
        "        response = llm.invoke(prompt)\n",
        "        result = json.loads(response.content.lower())\n",
        "        return result['classification']\n",
        "    except Exception as e:\n",
        "        print(f\"Error during classification: {e}\")\n",
        "        return 'error'\n",
        "\n",
        "def classify_multiple_reports(df, n_reports=5, template=None, looking_for=None, examples=None, seed=44):\n",
        "    \"\"\"Classify multiple random reports\"\"\"\n",
        "    results = []\n",
        "    random.seed(seed)  # Set seed for reproducibility\n",
        "    report_indices = random.sample(range(len(df)), n_reports)\n",
        "\n",
        "    for idx in tqdm(report_indices, desc=\"Classifying reports\"):\n",
        "        report = df.iloc[idx]['report']\n",
        "        label = df.iloc[idx]['label']\n",
        "        prediction = classify_report(report, template, looking_for, examples)\n",
        "\n",
        "        results.append({\n",
        "            'index': idx,\n",
        "            'report': report,\n",
        "            'original_label': label,\n",
        "            'predicted_label': prediction\n",
        "        })\n",
        "\n",
        "    return results\n",
        "\n",
        "def display_results(results, show_original_label=True):\n",
        "    \"\"\"Display classification results in a readable format\"\"\"\n",
        "\n",
        "    for r in results:\n",
        "        print(f\"\\nReport #{r['index']}:\")\n",
        "        print(\"=\" * 50)\n",
        "        print(f\"Report text:\")\n",
        "        display(r['report'])\n",
        "        print(\"-\" * 50)\n",
        "\n",
        "        if show_original_label:\n",
        "            # Compare prediction with the original label\n",
        "            is_correct = r['original_label'].lower() == r['predicted_label'].lower()\n",
        "            classification = 'Correct' if is_correct else 'Wrong'\n",
        "            classification_icon = '✅' if is_correct else '👎'\n",
        "            print(f\"Original Label : {r['original_label']}\")\n",
        "            print(f\"Predicted Label: {r['predicted_label']}\")\n",
        "            print(f\"Classification : {classification} {classification_icon}\")\n",
        "\n",
        "        else:\n",
        "            # Only show predicted classification when original label is hidden\n",
        "            is_correct = r['predicted_label'].lower() == \"present\"\n",
        "            classification_icon = '✓✓✓' if is_correct else 'xxx'\n",
        "            classification_icon = '✅' if is_correct else '👎'\n",
        "            print(f\"Finding: {r['predicted_label']} {classification_icon}\")\n",
        "\n",
        "        print()\n",
        "\n",
        "\n",
        "    total = len(results)\n",
        "    print(\"SUMMARY:\")\n",
        "    print(\"=\" * 50)\n",
        "    print(f\"\\nAnalyzed {total} reports\")\n",
        "\n",
        "    # Show accuracy if original labels are available\n",
        "    if show_original_label:\n",
        "        correct = sum(1 for r in results if r['original_label'].lower() == r['predicted_label'].lower())\n",
        "\n",
        "        print(f\"Correct predictions: {correct}\")\n",
        "        print(f\"Accuracy: {(correct/total)*100:.1f}%\\n\")\n"
      ]
    },
    {
      "cell_type": "markdown",
      "source": [
        "# OpenAI API Key Setup\n",
        "\n",
        "## What is an API Key?\n",
        "An API key functions like a password that grants access to OpenAI's services. It allows you to:\n",
        "- Use OpenAI's models (e.g., GPT-4).\n",
        "- Submit reports for analysis.\n",
        "- Monitor usage and manage access securely.\n",
        "\n",
        "## How to Obtain an OpenAI API Key:\n",
        "1. Visit [OpenAI's platform](https://platform.openai.com/signup) and sign up or log in.\n",
        "2. Navigate to the [API Keys page](https://platform.openai.com/api-keys).\n",
        "3. Click **\"Create new secret key\"**.\n",
        "4. Copy and securely store your API key (you won't be able to view it again!).\n",
        "\n",
        "### Important Notes:\n",
        "- **Keep your API key private** – do not share or store it in public repositories.\n",
        "- **OpenAI services require payment** – ensure you have valid billing information."
      ],
      "metadata": {
        "id": "x0dVAvfx3f5h"
      }
    },
    {
      "cell_type": "code",
      "source": [
        "if 'OPENAI_API_KEY' not in os.environ:\n",
        "    print(\"Please enter your OpenAI API key (it won't be displayed as you type):\")\n",
        "    api_key = getpass.getpass()\n",
        "    os.environ['OPENAI_API_KEY'] = api_key\n",
        "    print(\"OpenAI API key set successfully.\")\n",
        "else:\n",
        "    print(\"OpenAI API key already set.\")"
      ],
      "metadata": {
        "colab": {
          "base_uri": "https://localhost:8080/"
        },
        "id": "X8kAmvg13eHi",
        "outputId": "51a8bb30-6967-4787-d557-0216f1b43118"
      },
      "execution_count": 10,
      "outputs": [
        {
          "output_type": "stream",
          "name": "stdout",
          "text": [
            "OpenAI API key already set.\n"
          ]
        }
      ]
    },
    {
      "cell_type": "markdown",
      "source": [
        "# Let's Try It Out! 🏥\n",
        "\n",
        "## 1. Zero-Shot Classification\n",
        "\n",
        "In **zero-shot classification**, the model determines whether a given chest X-ray report describes a **normal** or **abnormal** case without prior examples.\n",
        "\n",
        "### How It Works:\n",
        "**Prompt Template:**  \n",
        "- The model receives a structured instruction to classify reports.\n",
        "- The response format is **JSON**, containing the key **\"classification\"** with possible values: `\"normal\"` or `\"abnormal\"`.\n",
        "- The `{report}` placeholder is replaced with an actual chest X-ray report before passing it to the model.\n"
      ],
      "metadata": {
        "id": "lz6W0gxs04-Q"
      }
    },
    {
      "cell_type": "code",
      "source": [
        "zero_shot_prompt_template = \"\"\"\n",
        "### INSTRUCTION\n",
        "You are a specialist in chest x-ray reports. Your task is to classify if a report is normal or abnormal.\n",
        "Your response should be in a JSON format with the key \"classification\" and the possible values: \"normal\" or \"abnormal\"\n",
        "\n",
        "### REPORT TO CLASSIFY\n",
        "{report}\n",
        "\"\"\"\n",
        "\n",
        "#for seed in range(60, 80):\n",
        "results = classify_multiple_reports(df, n_reports=1, template=zero_shot_prompt_template, seed=62)\n",
        "display_results(results, show_original_label=True)\n"
      ],
      "metadata": {
        "colab": {
          "base_uri": "https://localhost:8080/",
          "height": 348
        },
        "id": "48x9wcTL0_m9",
        "outputId": "cb722c08-232c-49ff-9b67-2040664055b0"
      },
      "execution_count": 13,
      "outputs": [
        {
          "output_type": "stream",
          "name": "stderr",
          "text": [
            "Classifying reports: 100%|██████████| 1/1 [00:00<00:00,  1.02it/s]"
          ]
        },
        {
          "output_type": "stream",
          "name": "stdout",
          "text": [
            "\n",
            "Report #2356:\n",
            "==================================================\n",
            "Report text:\n"
          ]
        },
        {
          "output_type": "stream",
          "name": "stderr",
          "text": [
            "\n"
          ]
        },
        {
          "output_type": "display_data",
          "data": {
            "text/plain": [
              "'Heart size and mediastinal contour within normal limits. No focal airspace consolidation, pneumothorax, or large pleural effusion. Degenerative changes of thoracic spine.'"
            ],
            "application/vnd.google.colaboratory.intrinsic+json": {
              "type": "string"
            }
          },
          "metadata": {}
        },
        {
          "output_type": "stream",
          "name": "stdout",
          "text": [
            "--------------------------------------------------\n",
            "Original Label : abnormal\n",
            "Predicted Label: normal\n",
            "Classification : Wrong 👎\n",
            "\n",
            "SUMMARY:\n",
            "==================================================\n",
            "\n",
            "Analyzed 1 reports\n",
            "Correct predictions: 0\n",
            "Accuracy: 0.0%\n",
            "\n"
          ]
        }
      ]
    },
    {
      "cell_type": "markdown",
      "source": [
        "### Testing Classification in Multiple Reports"
      ],
      "metadata": {
        "id": "qfcCWv-RLjJW"
      }
    },
    {
      "cell_type": "code",
      "source": [
        "results = classify_multiple_reports(df, n_reports=10, template=zero_shot_prompt_template)\n",
        "\n",
        "display_results(results, show_original_label=True)"
      ],
      "metadata": {
        "colab": {
          "base_uri": "https://localhost:8080/",
          "height": 1000
        },
        "id": "xMocZs02Ligb",
        "outputId": "1331bf4c-f342-4590-bb9a-ff72c1947439"
      },
      "execution_count": 22,
      "outputs": [
        {
          "output_type": "stream",
          "name": "stderr",
          "text": [
            "Classifying reports: 100%|██████████| 10/10 [00:15<00:00,  1.52s/it]"
          ]
        },
        {
          "output_type": "stream",
          "name": "stdout",
          "text": [
            "\n",
            "Report #1673:\n",
            "==================================================\n",
            "Report text:\n"
          ]
        },
        {
          "output_type": "stream",
          "name": "stderr",
          "text": [
            "\n"
          ]
        },
        {
          "output_type": "display_data",
          "data": {
            "text/plain": [
              "'There are broken 1st and 3rd-5XXXX XXXX XXXX. Normal cardiomediastinal silhouette. Pulmonary vasculatures are within normal limits. Left-sided aortic XXXX. Central airways are XXXX. No focal consolidation, pleural effusion or pneumothorax. Left hemidiaphragm is mildly elevated. Interposition of the colon in the left upper quadrant.'"
            ],
            "application/vnd.google.colaboratory.intrinsic+json": {
              "type": "string"
            }
          },
          "metadata": {}
        },
        {
          "output_type": "stream",
          "name": "stdout",
          "text": [
            "--------------------------------------------------\n",
            "Original Label : abnormal\n",
            "Predicted Label: abnormal\n",
            "Classification : Correct ✅\n",
            "\n",
            "\n",
            "Report #2130:\n",
            "==================================================\n",
            "Report text:\n"
          ]
        },
        {
          "output_type": "display_data",
          "data": {
            "text/plain": [
              "'Hyperinflated lungs with flattened diaphragm and increased retrosternal airspace. No focal alveolar consolidation, no definite pleural effusion seen. Heart size within normal limits, the typical findings of pulmonary edema. Mild spine dextrocurvature noted.'"
            ],
            "application/vnd.google.colaboratory.intrinsic+json": {
              "type": "string"
            }
          },
          "metadata": {}
        },
        {
          "output_type": "stream",
          "name": "stdout",
          "text": [
            "--------------------------------------------------\n",
            "Original Label : abnormal\n",
            "Predicted Label: abnormal\n",
            "Classification : Correct ✅\n",
            "\n",
            "\n",
            "Report #2219:\n",
            "==================================================\n",
            "Report text:\n"
          ]
        },
        {
          "output_type": "display_data",
          "data": {
            "text/plain": [
              "'The lungs are clear. There are calcified granulomas. Heart size is normal. No pneumothorax. There are endplate changes in the spine.'"
            ],
            "application/vnd.google.colaboratory.intrinsic+json": {
              "type": "string"
            }
          },
          "metadata": {}
        },
        {
          "output_type": "stream",
          "name": "stdout",
          "text": [
            "--------------------------------------------------\n",
            "Original Label : abnormal\n",
            "Predicted Label: abnormal\n",
            "Classification : Correct ✅\n",
            "\n",
            "\n",
            "Report #2873:\n",
            "==================================================\n",
            "Report text:\n"
          ]
        },
        {
          "output_type": "display_data",
          "data": {
            "text/plain": [
              "'The cardiomediastinal silhouette is within normal limits for appearance. No focal areas of pulmonary consolidation. No pneumothorax. No pleural effusion. The thoracic spine appears intact. No acute, displaced rib fractures.'"
            ],
            "application/vnd.google.colaboratory.intrinsic+json": {
              "type": "string"
            }
          },
          "metadata": {}
        },
        {
          "output_type": "stream",
          "name": "stdout",
          "text": [
            "--------------------------------------------------\n",
            "Original Label : normal\n",
            "Predicted Label: normal\n",
            "Classification : Correct ✅\n",
            "\n",
            "\n",
            "Report #477:\n",
            "==================================================\n",
            "Report text:\n"
          ]
        },
        {
          "output_type": "display_data",
          "data": {
            "text/plain": [
              "'The heart is normal in size. The mediastinum is stable. The aorta is atherosclerotic. There are emphysematous changes with increased interstitial markings, particularly in the periphery and lung bases. The lungs are clear of focal infiltrates. There is no pleural effusion.'"
            ],
            "application/vnd.google.colaboratory.intrinsic+json": {
              "type": "string"
            }
          },
          "metadata": {}
        },
        {
          "output_type": "stream",
          "name": "stdout",
          "text": [
            "--------------------------------------------------\n",
            "Original Label : abnormal\n",
            "Predicted Label: abnormal\n",
            "Classification : Correct ✅\n",
            "\n",
            "\n",
            "Report #723:\n",
            "==================================================\n",
            "Report text:\n"
          ]
        },
        {
          "output_type": "display_data",
          "data": {
            "text/plain": [
              "'No focal lung consolidation. A XXXX density overlying the left costophrenic XXXX is XXXX due to overlying soft tissues. Heart size and pulmonary vascularity are within normal limits. No pneumothorax or pleural effusion. Osseous structures are grossly intact.'"
            ],
            "application/vnd.google.colaboratory.intrinsic+json": {
              "type": "string"
            }
          },
          "metadata": {}
        },
        {
          "output_type": "stream",
          "name": "stdout",
          "text": [
            "--------------------------------------------------\n",
            "Original Label : abnormal\n",
            "Predicted Label: normal\n",
            "Classification : Wrong 👎\n",
            "\n",
            "\n",
            "Report #1554:\n",
            "==================================================\n",
            "Report text:\n"
          ]
        },
        {
          "output_type": "display_data",
          "data": {
            "text/plain": [
              "'The cardiomediastinal contours are within normal limits. Pulmonary vasculature is unremarkable. There is no focal airspace opacity. No pleural effusion or pneumothorax is seen. No acute bony abnormality is identified.'"
            ],
            "application/vnd.google.colaboratory.intrinsic+json": {
              "type": "string"
            }
          },
          "metadata": {}
        },
        {
          "output_type": "stream",
          "name": "stdout",
          "text": [
            "--------------------------------------------------\n",
            "Original Label : normal\n",
            "Predicted Label: normal\n",
            "Classification : Correct ✅\n",
            "\n",
            "\n",
            "Report #922:\n",
            "==================================================\n",
            "Report text:\n"
          ]
        },
        {
          "output_type": "display_data",
          "data": {
            "text/plain": [
              "'No focal areas of consolidation. No pleural effusions. No pneumothorax. Degenerative changes thoracic spine. Heart size normal limits. Cholecystectomy clips.'"
            ],
            "application/vnd.google.colaboratory.intrinsic+json": {
              "type": "string"
            }
          },
          "metadata": {}
        },
        {
          "output_type": "stream",
          "name": "stdout",
          "text": [
            "--------------------------------------------------\n",
            "Original Label : abnormal\n",
            "Predicted Label: normal\n",
            "Classification : Wrong 👎\n",
            "\n",
            "\n",
            "Report #1186:\n",
            "==================================================\n",
            "Report text:\n"
          ]
        },
        {
          "output_type": "display_data",
          "data": {
            "text/plain": [
              "'Heart size remains slightly large. Pulmonary XXXX are normal. Aorta tortuous.'"
            ],
            "application/vnd.google.colaboratory.intrinsic+json": {
              "type": "string"
            }
          },
          "metadata": {}
        },
        {
          "output_type": "stream",
          "name": "stdout",
          "text": [
            "--------------------------------------------------\n",
            "Original Label : abnormal\n",
            "Predicted Label: abnormal\n",
            "Classification : Correct ✅\n",
            "\n",
            "\n",
            "Report #119:\n",
            "==================================================\n",
            "Report text:\n"
          ]
        },
        {
          "output_type": "display_data",
          "data": {
            "text/plain": [
              "'Normal heart size and mediastinal contours. Clear lungs. No pneumothorax or pleural effusion. Unremarkable XXXX.'"
            ],
            "application/vnd.google.colaboratory.intrinsic+json": {
              "type": "string"
            }
          },
          "metadata": {}
        },
        {
          "output_type": "stream",
          "name": "stdout",
          "text": [
            "--------------------------------------------------\n",
            "Original Label : normal\n",
            "Predicted Label: normal\n",
            "Classification : Correct ✅\n",
            "\n",
            "SUMMARY:\n",
            "==================================================\n",
            "\n",
            "Analyzed 10 reports\n",
            "Correct predictions: 8\n",
            "Accuracy: 80.0%\n",
            "\n"
          ]
        }
      ]
    },
    {
      "cell_type": "markdown",
      "source": [
        "## 2. Few-Shot Classification\n",
        "\n",
        "Zero-shot classification may not always be accurate. To enhance performance, we use **few-shot prompting**, where the model is provided with a few labeled examples to improve its accuracy.\n",
        "\n",
        "### How It Works:\n",
        "**Prompt Template:**  \n",
        "- The `{examples}` placeholder contains relevant instances of abnormalities.\n",
        "- The `{report}` placeholder is replaced with an actual chest X-ray report.\n",
        "- The model is instructed to classify a report as **abnormal** if it contains specific **findings**."
      ],
      "metadata": {
        "id": "ebiLxukC5k3q"
      }
    },
    {
      "cell_type": "code",
      "source": [
        "few_show_template = \"\"\"\n",
        "### INSTRUCTION\n",
        "You are a specialist in chest X-ray reports.\n",
        "Your task is to classify a report as abnormal if it describes signs of {looking_for}, such as:\n",
        "{examples}\n",
        "Consider the finding positive even if it is mild.\n",
        "Your response should be in a JSON format with the key 'classification' and the possible values: 'normal' or 'abnormal'\n",
        "\n",
        "### REPORT TO CLASSIFY\n",
        "{report}\n",
        "\"\"\"\n",
        "\n",
        "looking_for='any abnormalities'\n",
        "\n",
        "examples = \"\"\"\n",
        "- Low or high lung volume\n",
        "- Abnormalities in the lungs, bones, heart, mediastinum or pleura\n",
        "- Abnormal calcifications and/or granulomas\n",
        "- Abormalities in the neck or abdomen\n",
        "\"\"\"\n",
        "\n",
        "print(f\"\\n{looking_for.capitalize()} Classifier\")\n",
        "print(f\"Examples: {examples}\")\n",
        "\n",
        "\n",
        "results = classify_multiple_reports(df, n_reports=10,\n",
        "                                    template=few_show_template,\n",
        "                                    looking_for=looking_for,\n",
        "                                    examples=examples)\n",
        "\n",
        "display_results(results, show_original_label=True)"
      ],
      "metadata": {
        "colab": {
          "base_uri": "https://localhost:8080/",
          "height": 1000
        },
        "id": "D605KDra5xWA",
        "outputId": "20e901e7-e11e-4166-9383-72484daca6d2"
      },
      "execution_count": 23,
      "outputs": [
        {
          "output_type": "stream",
          "name": "stdout",
          "text": [
            "\n",
            "Any abnormalities Classifier\n",
            "Examples: \n",
            "- Low or high lung volume\n",
            "- Abnormalities in the lungs, bones, heart, mediastinum or pleura\n",
            "- Abnormal calcifications and/or granulomas\n",
            "- Abormalities in the neck or abdomen\n",
            "\n"
          ]
        },
        {
          "output_type": "stream",
          "name": "stderr",
          "text": [
            "Classifying reports: 100%|██████████| 10/10 [00:16<00:00,  1.65s/it]"
          ]
        },
        {
          "output_type": "stream",
          "name": "stdout",
          "text": [
            "\n",
            "Report #1673:\n",
            "==================================================\n",
            "Report text:\n"
          ]
        },
        {
          "output_type": "stream",
          "name": "stderr",
          "text": [
            "\n"
          ]
        },
        {
          "output_type": "display_data",
          "data": {
            "text/plain": [
              "'There are broken 1st and 3rd-5XXXX XXXX XXXX. Normal cardiomediastinal silhouette. Pulmonary vasculatures are within normal limits. Left-sided aortic XXXX. Central airways are XXXX. No focal consolidation, pleural effusion or pneumothorax. Left hemidiaphragm is mildly elevated. Interposition of the colon in the left upper quadrant.'"
            ],
            "application/vnd.google.colaboratory.intrinsic+json": {
              "type": "string"
            }
          },
          "metadata": {}
        },
        {
          "output_type": "stream",
          "name": "stdout",
          "text": [
            "--------------------------------------------------\n",
            "Original Label : abnormal\n",
            "Predicted Label: abnormal\n",
            "Classification : Correct ✅\n",
            "\n",
            "\n",
            "Report #2130:\n",
            "==================================================\n",
            "Report text:\n"
          ]
        },
        {
          "output_type": "display_data",
          "data": {
            "text/plain": [
              "'Hyperinflated lungs with flattened diaphragm and increased retrosternal airspace. No focal alveolar consolidation, no definite pleural effusion seen. Heart size within normal limits, the typical findings of pulmonary edema. Mild spine dextrocurvature noted.'"
            ],
            "application/vnd.google.colaboratory.intrinsic+json": {
              "type": "string"
            }
          },
          "metadata": {}
        },
        {
          "output_type": "stream",
          "name": "stdout",
          "text": [
            "--------------------------------------------------\n",
            "Original Label : abnormal\n",
            "Predicted Label: abnormal\n",
            "Classification : Correct ✅\n",
            "\n",
            "\n",
            "Report #2219:\n",
            "==================================================\n",
            "Report text:\n"
          ]
        },
        {
          "output_type": "display_data",
          "data": {
            "text/plain": [
              "'The lungs are clear. There are calcified granulomas. Heart size is normal. No pneumothorax. There are endplate changes in the spine.'"
            ],
            "application/vnd.google.colaboratory.intrinsic+json": {
              "type": "string"
            }
          },
          "metadata": {}
        },
        {
          "output_type": "stream",
          "name": "stdout",
          "text": [
            "--------------------------------------------------\n",
            "Original Label : abnormal\n",
            "Predicted Label: abnormal\n",
            "Classification : Correct ✅\n",
            "\n",
            "\n",
            "Report #2873:\n",
            "==================================================\n",
            "Report text:\n"
          ]
        },
        {
          "output_type": "display_data",
          "data": {
            "text/plain": [
              "'The cardiomediastinal silhouette is within normal limits for appearance. No focal areas of pulmonary consolidation. No pneumothorax. No pleural effusion. The thoracic spine appears intact. No acute, displaced rib fractures.'"
            ],
            "application/vnd.google.colaboratory.intrinsic+json": {
              "type": "string"
            }
          },
          "metadata": {}
        },
        {
          "output_type": "stream",
          "name": "stdout",
          "text": [
            "--------------------------------------------------\n",
            "Original Label : normal\n",
            "Predicted Label: normal\n",
            "Classification : Correct ✅\n",
            "\n",
            "\n",
            "Report #477:\n",
            "==================================================\n",
            "Report text:\n"
          ]
        },
        {
          "output_type": "display_data",
          "data": {
            "text/plain": [
              "'The heart is normal in size. The mediastinum is stable. The aorta is atherosclerotic. There are emphysematous changes with increased interstitial markings, particularly in the periphery and lung bases. The lungs are clear of focal infiltrates. There is no pleural effusion.'"
            ],
            "application/vnd.google.colaboratory.intrinsic+json": {
              "type": "string"
            }
          },
          "metadata": {}
        },
        {
          "output_type": "stream",
          "name": "stdout",
          "text": [
            "--------------------------------------------------\n",
            "Original Label : abnormal\n",
            "Predicted Label: abnormal\n",
            "Classification : Correct ✅\n",
            "\n",
            "\n",
            "Report #723:\n",
            "==================================================\n",
            "Report text:\n"
          ]
        },
        {
          "output_type": "display_data",
          "data": {
            "text/plain": [
              "'No focal lung consolidation. A XXXX density overlying the left costophrenic XXXX is XXXX due to overlying soft tissues. Heart size and pulmonary vascularity are within normal limits. No pneumothorax or pleural effusion. Osseous structures are grossly intact.'"
            ],
            "application/vnd.google.colaboratory.intrinsic+json": {
              "type": "string"
            }
          },
          "metadata": {}
        },
        {
          "output_type": "stream",
          "name": "stdout",
          "text": [
            "--------------------------------------------------\n",
            "Original Label : abnormal\n",
            "Predicted Label: normal\n",
            "Classification : Wrong 👎\n",
            "\n",
            "\n",
            "Report #1554:\n",
            "==================================================\n",
            "Report text:\n"
          ]
        },
        {
          "output_type": "display_data",
          "data": {
            "text/plain": [
              "'The cardiomediastinal contours are within normal limits. Pulmonary vasculature is unremarkable. There is no focal airspace opacity. No pleural effusion or pneumothorax is seen. No acute bony abnormality is identified.'"
            ],
            "application/vnd.google.colaboratory.intrinsic+json": {
              "type": "string"
            }
          },
          "metadata": {}
        },
        {
          "output_type": "stream",
          "name": "stdout",
          "text": [
            "--------------------------------------------------\n",
            "Original Label : normal\n",
            "Predicted Label: normal\n",
            "Classification : Correct ✅\n",
            "\n",
            "\n",
            "Report #922:\n",
            "==================================================\n",
            "Report text:\n"
          ]
        },
        {
          "output_type": "display_data",
          "data": {
            "text/plain": [
              "'No focal areas of consolidation. No pleural effusions. No pneumothorax. Degenerative changes thoracic spine. Heart size normal limits. Cholecystectomy clips.'"
            ],
            "application/vnd.google.colaboratory.intrinsic+json": {
              "type": "string"
            }
          },
          "metadata": {}
        },
        {
          "output_type": "stream",
          "name": "stdout",
          "text": [
            "--------------------------------------------------\n",
            "Original Label : abnormal\n",
            "Predicted Label: abnormal\n",
            "Classification : Correct ✅\n",
            "\n",
            "\n",
            "Report #1186:\n",
            "==================================================\n",
            "Report text:\n"
          ]
        },
        {
          "output_type": "display_data",
          "data": {
            "text/plain": [
              "'Heart size remains slightly large. Pulmonary XXXX are normal. Aorta tortuous.'"
            ],
            "application/vnd.google.colaboratory.intrinsic+json": {
              "type": "string"
            }
          },
          "metadata": {}
        },
        {
          "output_type": "stream",
          "name": "stdout",
          "text": [
            "--------------------------------------------------\n",
            "Original Label : abnormal\n",
            "Predicted Label: abnormal\n",
            "Classification : Correct ✅\n",
            "\n",
            "\n",
            "Report #119:\n",
            "==================================================\n",
            "Report text:\n"
          ]
        },
        {
          "output_type": "display_data",
          "data": {
            "text/plain": [
              "'Normal heart size and mediastinal contours. Clear lungs. No pneumothorax or pleural effusion. Unremarkable XXXX.'"
            ],
            "application/vnd.google.colaboratory.intrinsic+json": {
              "type": "string"
            }
          },
          "metadata": {}
        },
        {
          "output_type": "stream",
          "name": "stdout",
          "text": [
            "--------------------------------------------------\n",
            "Original Label : normal\n",
            "Predicted Label: normal\n",
            "Classification : Correct ✅\n",
            "\n",
            "SUMMARY:\n",
            "==================================================\n",
            "\n",
            "Analyzed 10 reports\n",
            "Correct predictions: 9\n",
            "Accuracy: 90.0%\n",
            "\n"
          ]
        }
      ]
    },
    {
      "cell_type": "markdown",
      "source": [
        "## 3. Condition-Specific Classification\n",
        "\n",
        "In some cases, you may need to classify reports based on specific medical conditions rather than general abnormalities.\n",
        "\n",
        "### How It Works:\n",
        "**Prompt Template:**  \n",
        "- The `{looking_for}` placeholder specifies the condition to be detected (e.g., cardiomegaly, COPD).\n",
        "- The `{examples}` placeholder contains key indicators related to the condition.\n",
        "- The model classifies the report as **\"present\"** or **\"absent\"** based on the findings.\n",
        "\n",
        "### Example: Cardiomegaly Detection\n",
        "- **Signs of Cardiomegaly:**\n",
        "  - Increased heart size\n",
        "  - Enlarged cardiac silhouette\n",
        "  - Increased cardiomediastinal silhouette"
      ],
      "metadata": {
        "id": "UUut9R0XdV_I"
      }
    },
    {
      "cell_type": "code",
      "source": [
        "finding_specific_template = \"\"\"\n",
        "### INSTRUCTION\n",
        "You are a specialist in chest X-ray reports.\n",
        "Your task is to classify a report as positive if it describes signs of {looking_for}, such as:\n",
        "{examples}\n",
        "Consider the finding positive even if it is mild.\n",
        "Your response should be in a JSON format with the key 'classification' and the possible values: 'present' or 'absent'\n",
        "\n",
        "### REPORT TO CLASSIFY\n",
        "{report}\n",
        "\"\"\"\n",
        "\n",
        "looking_for='cardiomegaly'\n",
        "\n",
        "examples = \"\"\"\n",
        "- Increased heart size\n",
        "- Enlarged cardiac silhouette\n",
        "- Increased cardiomediastinal silhouette\n",
        "\"\"\"\n",
        "\n",
        "print(f\"\\n{looking_for.capitalize()} Detection\")\n",
        "print(f\"Examples: {examples}\")\n",
        "\n",
        "\n",
        "results = classify_multiple_reports(df,\n",
        "                                    n_reports=10,\n",
        "                                    template=finding_specific_template,\n",
        "                                    looking_for=looking_for,\n",
        "                                    examples=examples,\n",
        "                                    seed=41)\n",
        "\n",
        "display_results(results, show_original_label=False)"
      ],
      "metadata": {
        "colab": {
          "base_uri": "https://localhost:8080/",
          "height": 1000
        },
        "outputId": "5f7bea95-a0dd-41b7-a874-222537cc3aac",
        "id": "X38XwG9JdkdJ"
      },
      "execution_count": 24,
      "outputs": [
        {
          "output_type": "stream",
          "name": "stdout",
          "text": [
            "\n",
            "Cardiomegaly Detection\n",
            "Examples: \n",
            "- Increased heart size\n",
            "- Enlarged cardiac silhouette\n",
            "- Increased cardiomediastinal silhouette\n",
            "\n"
          ]
        },
        {
          "output_type": "stream",
          "name": "stderr",
          "text": [
            "Classifying reports: 100%|██████████| 10/10 [00:13<00:00,  1.36s/it]"
          ]
        },
        {
          "output_type": "stream",
          "name": "stdout",
          "text": [
            "\n",
            "Report #1560:\n",
            "==================================================\n",
            "Report text:\n"
          ]
        },
        {
          "output_type": "stream",
          "name": "stderr",
          "text": [
            "\n"
          ]
        },
        {
          "output_type": "display_data",
          "data": {
            "text/plain": [
              "'The heart is normal size. The mediastinum is unremarkable. There is no pleural effusion, pneumothorax, or focal airspace disease. There is stable mild XXXX deformity of the lower thoracic vertebral body.'"
            ],
            "application/vnd.google.colaboratory.intrinsic+json": {
              "type": "string"
            }
          },
          "metadata": {}
        },
        {
          "output_type": "stream",
          "name": "stdout",
          "text": [
            "--------------------------------------------------\n",
            "Finding: absent 👎\n",
            "\n",
            "\n",
            "Report #1360:\n",
            "==================================================\n",
            "Report text:\n"
          ]
        },
        {
          "output_type": "display_data",
          "data": {
            "text/plain": [
              "'Cardiac and mediastinal contours are within normal limits. The lungs are clear. Bony structures are intact.'"
            ],
            "application/vnd.google.colaboratory.intrinsic+json": {
              "type": "string"
            }
          },
          "metadata": {}
        },
        {
          "output_type": "stream",
          "name": "stdout",
          "text": [
            "--------------------------------------------------\n",
            "Finding: absent 👎\n",
            "\n",
            "\n",
            "Report #945:\n",
            "==================================================\n",
            "Report text:\n"
          ]
        },
        {
          "output_type": "display_data",
          "data": {
            "text/plain": [
              "'Considering differences in technical factors XXXX stable cardiomegaly and stable mediastinal contours. No focal alveolar consolidation, no definite pleural effusion seen. Bronchovascular crowding without typical findings of pulmonary edema.'"
            ],
            "application/vnd.google.colaboratory.intrinsic+json": {
              "type": "string"
            }
          },
          "metadata": {}
        },
        {
          "output_type": "stream",
          "name": "stdout",
          "text": [
            "--------------------------------------------------\n",
            "Finding: present ✅\n",
            "\n",
            "\n",
            "Report #680:\n",
            "==================================================\n",
            "Report text:\n"
          ]
        },
        {
          "output_type": "display_data",
          "data": {
            "text/plain": [
              "'Heart size is within normal limits for AP technique. Low lung volumes with bronchovascular crowding. No focal infiltrate. No visible pneumothorax. No pleural effusion.'"
            ],
            "application/vnd.google.colaboratory.intrinsic+json": {
              "type": "string"
            }
          },
          "metadata": {}
        },
        {
          "output_type": "stream",
          "name": "stdout",
          "text": [
            "--------------------------------------------------\n",
            "Finding: absent 👎\n",
            "\n",
            "\n",
            "Report #1579:\n",
            "==================================================\n",
            "Report text:\n"
          ]
        },
        {
          "output_type": "display_data",
          "data": {
            "text/plain": [
              "'Moderate cardiomegaly. Mild bilateral costophrenic XXXX blunting and fissural thickening, interstitial opacities greatest in the central lungs and bases with indistinct vascular margination. Dense right lower lobe nodule and right hilar calcifications suggest a previous granulomatous process.'"
            ],
            "application/vnd.google.colaboratory.intrinsic+json": {
              "type": "string"
            }
          },
          "metadata": {}
        },
        {
          "output_type": "stream",
          "name": "stdout",
          "text": [
            "--------------------------------------------------\n",
            "Finding: present ✅\n",
            "\n",
            "\n",
            "Report #2367:\n",
            "==================================================\n",
            "Report text:\n"
          ]
        },
        {
          "output_type": "display_data",
          "data": {
            "text/plain": [
              "'Normal heart size. Diffuse bilateral reticulonodular interstitial opacities. There are no XXXX of a large pleural effusion. There is no evidence of pneumothorax. Heart is not enlarged. XXXX are unremarkable.'"
            ],
            "application/vnd.google.colaboratory.intrinsic+json": {
              "type": "string"
            }
          },
          "metadata": {}
        },
        {
          "output_type": "stream",
          "name": "stdout",
          "text": [
            "--------------------------------------------------\n",
            "Finding: absent 👎\n",
            "\n",
            "\n",
            "Report #2826:\n",
            "==================================================\n",
            "Report text:\n"
          ]
        },
        {
          "output_type": "display_data",
          "data": {
            "text/plain": [
              "'The cardiac contours are normal. The lungs are hyperinflated with flattened diaphragms. No acute pulmonary findings. Thoracic spondylosis.'"
            ],
            "application/vnd.google.colaboratory.intrinsic+json": {
              "type": "string"
            }
          },
          "metadata": {}
        },
        {
          "output_type": "stream",
          "name": "stdout",
          "text": [
            "--------------------------------------------------\n",
            "Finding: absent 👎\n",
            "\n",
            "\n",
            "Report #1161:\n",
            "==================================================\n",
            "Report text:\n"
          ]
        },
        {
          "output_type": "display_data",
          "data": {
            "text/plain": [
              "'The heart is normal in size. The mediastinum is unremarkable. The lungs are clear.'"
            ],
            "application/vnd.google.colaboratory.intrinsic+json": {
              "type": "string"
            }
          },
          "metadata": {}
        },
        {
          "output_type": "stream",
          "name": "stdout",
          "text": [
            "--------------------------------------------------\n",
            "Finding: absent 👎\n",
            "\n",
            "\n",
            "Report #2265:\n",
            "==================================================\n",
            "Report text:\n"
          ]
        },
        {
          "output_type": "display_data",
          "data": {
            "text/plain": [
              "'The cardiomediastinal silhouette is normal in size and contour. No focal consolidation, pneumothorax or large pleural effusion. Negative for acute displaced rib fracture.'"
            ],
            "application/vnd.google.colaboratory.intrinsic+json": {
              "type": "string"
            }
          },
          "metadata": {}
        },
        {
          "output_type": "stream",
          "name": "stdout",
          "text": [
            "--------------------------------------------------\n",
            "Finding: absent 👎\n",
            "\n",
            "\n",
            "Report #1133:\n",
            "==================================================\n",
            "Report text:\n"
          ]
        },
        {
          "output_type": "display_data",
          "data": {
            "text/plain": [
              "'The lungs are clear bilaterally. Specifically, no evidence of focal consolidation, pneumothorax, or pleural effusion.. Cardio mediastinal silhouette is unremarkable. Visualized osseous structures of the thorax are without acute abnormality.'"
            ],
            "application/vnd.google.colaboratory.intrinsic+json": {
              "type": "string"
            }
          },
          "metadata": {}
        },
        {
          "output_type": "stream",
          "name": "stdout",
          "text": [
            "--------------------------------------------------\n",
            "Finding: absent 👎\n",
            "\n",
            "SUMMARY:\n",
            "==================================================\n",
            "\n",
            "Analyzed 10 reports\n"
          ]
        }
      ]
    },
    {
      "cell_type": "markdown",
      "source": [
        "# Create Your Own Specialized Classifier! 🚀\n",
        "\n",
        "You can create a custom classifier for any specific condition by following these steps:\n",
        "\n",
        "1. **Define the condition** you want to detect (e.g., COPD, pleural effusion).\n",
        "2. **Specify key indicators** associated with the condition.\n",
        "3. **Modify the template** to reflect the new condition and findings.\n",
        "4. **Run the model** to classify reports based on your selected condition.\n",
        "\n",
        "### Example: COPD Detection\n",
        "- **Signs of COPD:**\n",
        "  - Hyperinflated lungs\n",
        "  - Flattened diaphragm\n",
        "  - Increased retrosternal airspace\n",
        "  - Narrowed cardiac silhouette\n",
        "  - Emphysematous changes\n"
      ],
      "metadata": {
        "id": "tAM9hP486YF6"
      }
    },
    {
      "cell_type": "code",
      "source": [
        "finding_specific_template = \"\"\"\n",
        "### INSTRUCTION\n",
        "You are a specialist in chest X-ray reports.\n",
        "Your task is to classify a report as positive if it describes signs of {looking_for}, such as:\n",
        "{examples}\n",
        "Consider the finding positive even if it is mild.\n",
        "Your response should be in a JSON format with the key 'classification' and the possible values: 'present' or 'absent'\n",
        "\n",
        "### REPORT TO CLASSIFY\n",
        "{report}\n",
        "\"\"\"\n",
        "\n",
        "looking_for = 'COPD (Chronic Obstructive Pulmonary Disease)'\n",
        "\n",
        "examples = \"\"\"\n",
        "- Hyperinflated lungs\n",
        "- Flattened diaphragm\n",
        "- Increased retrosternal airspace\n",
        "- Narrowed cardiac silhouette\n",
        "- Emphysematous changes\n",
        "\"\"\"\n",
        "\n",
        "print(f\"\\n{looking_for.capitalize()} Detection\")\n",
        "print(f\"Examples: {examples}\")\n",
        "\n",
        "\n",
        "results = classify_multiple_reports(df,\n",
        "                                    n_reports=10,\n",
        "                                    template=finding_specific_template,\n",
        "                                    looking_for=looking_for,\n",
        "                                    examples=examples,\n",
        "                                    )\n",
        "\n",
        "display_results(results, show_original_label=False)"
      ],
      "metadata": {
        "colab": {
          "base_uri": "https://localhost:8080/",
          "height": 1000
        },
        "id": "Vl69b67G6XZ_",
        "outputId": "52db60d9-1ee9-4135-e30e-22be71b3683f"
      },
      "execution_count": 26,
      "outputs": [
        {
          "output_type": "stream",
          "name": "stdout",
          "text": [
            "\n",
            "Copd (chronic obstructive pulmonary disease) Detection\n",
            "Examples: \n",
            "- Hyperinflated lungs\n",
            "- Flattened diaphragm\n",
            "- Increased retrosternal airspace\n",
            "- Narrowed cardiac silhouette\n",
            "- Emphysematous changes\n",
            "\n"
          ]
        },
        {
          "output_type": "stream",
          "name": "stderr",
          "text": [
            "Classifying reports: 100%|██████████| 10/10 [00:15<00:00,  1.55s/it]"
          ]
        },
        {
          "output_type": "stream",
          "name": "stdout",
          "text": [
            "\n",
            "Report #1673:\n",
            "==================================================\n",
            "Report text:\n"
          ]
        },
        {
          "output_type": "stream",
          "name": "stderr",
          "text": [
            "\n"
          ]
        },
        {
          "output_type": "display_data",
          "data": {
            "text/plain": [
              "'There are broken 1st and 3rd-5XXXX XXXX XXXX. Normal cardiomediastinal silhouette. Pulmonary vasculatures are within normal limits. Left-sided aortic XXXX. Central airways are XXXX. No focal consolidation, pleural effusion or pneumothorax. Left hemidiaphragm is mildly elevated. Interposition of the colon in the left upper quadrant.'"
            ],
            "application/vnd.google.colaboratory.intrinsic+json": {
              "type": "string"
            }
          },
          "metadata": {}
        },
        {
          "output_type": "stream",
          "name": "stdout",
          "text": [
            "--------------------------------------------------\n",
            "Finding: absent 👎\n",
            "\n",
            "\n",
            "Report #2130:\n",
            "==================================================\n",
            "Report text:\n"
          ]
        },
        {
          "output_type": "display_data",
          "data": {
            "text/plain": [
              "'Hyperinflated lungs with flattened diaphragm and increased retrosternal airspace. No focal alveolar consolidation, no definite pleural effusion seen. Heart size within normal limits, the typical findings of pulmonary edema. Mild spine dextrocurvature noted.'"
            ],
            "application/vnd.google.colaboratory.intrinsic+json": {
              "type": "string"
            }
          },
          "metadata": {}
        },
        {
          "output_type": "stream",
          "name": "stdout",
          "text": [
            "--------------------------------------------------\n",
            "Finding: present ✅\n",
            "\n",
            "\n",
            "Report #2219:\n",
            "==================================================\n",
            "Report text:\n"
          ]
        },
        {
          "output_type": "display_data",
          "data": {
            "text/plain": [
              "'The lungs are clear. There are calcified granulomas. Heart size is normal. No pneumothorax. There are endplate changes in the spine.'"
            ],
            "application/vnd.google.colaboratory.intrinsic+json": {
              "type": "string"
            }
          },
          "metadata": {}
        },
        {
          "output_type": "stream",
          "name": "stdout",
          "text": [
            "--------------------------------------------------\n",
            "Finding: absent 👎\n",
            "\n",
            "\n",
            "Report #2873:\n",
            "==================================================\n",
            "Report text:\n"
          ]
        },
        {
          "output_type": "display_data",
          "data": {
            "text/plain": [
              "'The cardiomediastinal silhouette is within normal limits for appearance. No focal areas of pulmonary consolidation. No pneumothorax. No pleural effusion. The thoracic spine appears intact. No acute, displaced rib fractures.'"
            ],
            "application/vnd.google.colaboratory.intrinsic+json": {
              "type": "string"
            }
          },
          "metadata": {}
        },
        {
          "output_type": "stream",
          "name": "stdout",
          "text": [
            "--------------------------------------------------\n",
            "Finding: absent 👎\n",
            "\n",
            "\n",
            "Report #477:\n",
            "==================================================\n",
            "Report text:\n"
          ]
        },
        {
          "output_type": "display_data",
          "data": {
            "text/plain": [
              "'The heart is normal in size. The mediastinum is stable. The aorta is atherosclerotic. There are emphysematous changes with increased interstitial markings, particularly in the periphery and lung bases. The lungs are clear of focal infiltrates. There is no pleural effusion.'"
            ],
            "application/vnd.google.colaboratory.intrinsic+json": {
              "type": "string"
            }
          },
          "metadata": {}
        },
        {
          "output_type": "stream",
          "name": "stdout",
          "text": [
            "--------------------------------------------------\n",
            "Finding: present ✅\n",
            "\n",
            "\n",
            "Report #723:\n",
            "==================================================\n",
            "Report text:\n"
          ]
        },
        {
          "output_type": "display_data",
          "data": {
            "text/plain": [
              "'No focal lung consolidation. A XXXX density overlying the left costophrenic XXXX is XXXX due to overlying soft tissues. Heart size and pulmonary vascularity are within normal limits. No pneumothorax or pleural effusion. Osseous structures are grossly intact.'"
            ],
            "application/vnd.google.colaboratory.intrinsic+json": {
              "type": "string"
            }
          },
          "metadata": {}
        },
        {
          "output_type": "stream",
          "name": "stdout",
          "text": [
            "--------------------------------------------------\n",
            "Finding: absent 👎\n",
            "\n",
            "\n",
            "Report #1554:\n",
            "==================================================\n",
            "Report text:\n"
          ]
        },
        {
          "output_type": "display_data",
          "data": {
            "text/plain": [
              "'The cardiomediastinal contours are within normal limits. Pulmonary vasculature is unremarkable. There is no focal airspace opacity. No pleural effusion or pneumothorax is seen. No acute bony abnormality is identified.'"
            ],
            "application/vnd.google.colaboratory.intrinsic+json": {
              "type": "string"
            }
          },
          "metadata": {}
        },
        {
          "output_type": "stream",
          "name": "stdout",
          "text": [
            "--------------------------------------------------\n",
            "Finding: absent 👎\n",
            "\n",
            "\n",
            "Report #922:\n",
            "==================================================\n",
            "Report text:\n"
          ]
        },
        {
          "output_type": "display_data",
          "data": {
            "text/plain": [
              "'No focal areas of consolidation. No pleural effusions. No pneumothorax. Degenerative changes thoracic spine. Heart size normal limits. Cholecystectomy clips.'"
            ],
            "application/vnd.google.colaboratory.intrinsic+json": {
              "type": "string"
            }
          },
          "metadata": {}
        },
        {
          "output_type": "stream",
          "name": "stdout",
          "text": [
            "--------------------------------------------------\n",
            "Finding: absent 👎\n",
            "\n",
            "\n",
            "Report #1186:\n",
            "==================================================\n",
            "Report text:\n"
          ]
        },
        {
          "output_type": "display_data",
          "data": {
            "text/plain": [
              "'Heart size remains slightly large. Pulmonary XXXX are normal. Aorta tortuous.'"
            ],
            "application/vnd.google.colaboratory.intrinsic+json": {
              "type": "string"
            }
          },
          "metadata": {}
        },
        {
          "output_type": "stream",
          "name": "stdout",
          "text": [
            "--------------------------------------------------\n",
            "Finding: absent 👎\n",
            "\n",
            "\n",
            "Report #119:\n",
            "==================================================\n",
            "Report text:\n"
          ]
        },
        {
          "output_type": "display_data",
          "data": {
            "text/plain": [
              "'Normal heart size and mediastinal contours. Clear lungs. No pneumothorax or pleural effusion. Unremarkable XXXX.'"
            ],
            "application/vnd.google.colaboratory.intrinsic+json": {
              "type": "string"
            }
          },
          "metadata": {}
        },
        {
          "output_type": "stream",
          "name": "stdout",
          "text": [
            "--------------------------------------------------\n",
            "Finding: absent 👎\n",
            "\n",
            "SUMMARY:\n",
            "==================================================\n",
            "\n",
            "Analyzed 10 reports\n"
          ]
        }
      ]
    },
    {
      "cell_type": "markdown",
      "source": [
        "# Conclusion & Next Steps 📌\n",
        "\n",
        "Through this notebook, we've explored how **prompt engineering** enhances the classification of radiology reports using LLMs.\n",
        "\n",
        "### Key Takeaways:\n",
        "✅ **Zero-shot prompting** enables classification without prior examples.  \n",
        "✅ **Few-shot prompting** improves accuracy by providing labeled examples.  \n",
        "✅ **Condition-specific classification** allows targeted detection of medical conditions.  \n",
        "\n",
        "### What’s Next?\n",
        "Now that you understand the fundamentals, here are some next steps:\n",
        "1. **Test additional conditions** by modifying the `{looking_for}` and `{examples}` variables.\n",
        "2. **Experiment with different LLM models** to compare performance.\n",
        "3. **Refine your prompts** to improve classification accuracy.\n",
        "4. **Apply real-world datasets** to validate the model in clinical settings.\n",
        "\n",
        "By leveraging **LLMs and prompt engineering**, we can enhance efficiency in **radiology report classification**, aiding medical professionals in making informed decisions. 🏥💡\n",
        "\n",
        "---\n",
        "\n",
        "### Acknowledgment  \n",
        "This project utilizes an **open-access chest X-ray collection** from **Indiana University**, sourced from the **OpenI repository** ([OpenI](https://openi.nlm.nih.gov/)). We acknowledge and appreciate the efforts of the dataset creators in making this valuable resource available for research and analysis.\n",
        "\n",
        "---\n",
        "\n",
        "### Credits\n",
        "This notebook is adapted from work by **Paulo Kuriki** and **Felipe Kitamura**.\n",
        "\n"
      ],
      "metadata": {
        "id": "S-HzYkVcq4H-"
      }
    },
    {
      "cell_type": "code",
      "source": [],
      "metadata": {
        "id": "Rx3CrCQ25tKg"
      },
      "execution_count": null,
      "outputs": []
    }
  ]
}